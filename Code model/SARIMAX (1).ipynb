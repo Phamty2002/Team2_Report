{
 "cells": [
  {
   "cell_type": "code",
   "execution_count": 1,
   "id": "c0b1140f",
   "metadata": {
    "scrolled": false
   },
   "outputs": [],
   "source": [
    "from statsmodels.tsa.statespace.sarimax import SARIMAX\n",
    "from statsmodels.tsa.seasonal import seasonal_decompose"
   ]
  },
  {
   "cell_type": "code",
   "execution_count": 2,
   "id": "3b0ccfd0-95f6-4bfa-a8f0-5ce87c484ca0",
   "metadata": {},
   "outputs": [],
   "source": [
    "import pandas as pd\n",
    "import numpy as np\n",
    "import matplotlib.pyplot as plt\n",
    "import csv\n",
    "import os\n",
    "for dirname, _, filenames in os.walk('/kaggle/input'):\n",
    "    for filename in filenames:\n",
    "        print(os.path.join(dirname, filename))\n",
    "%matplotlib inline"
   ]
  },
  {
   "cell_type": "code",
   "execution_count": 3,
   "id": "91086e07-6b33-4959-9428-fac1cd78b541",
   "metadata": {
    "scrolled": true
   },
   "outputs": [
    {
     "data": {
      "text/html": [
       "<div>\n",
       "<style scoped>\n",
       "    .dataframe tbody tr th:only-of-type {\n",
       "        vertical-align: middle;\n",
       "    }\n",
       "\n",
       "    .dataframe tbody tr th {\n",
       "        vertical-align: top;\n",
       "    }\n",
       "\n",
       "    .dataframe thead th {\n",
       "        text-align: right;\n",
       "    }\n",
       "</style>\n",
       "<table border=\"1\" class=\"dataframe\">\n",
       "  <thead>\n",
       "    <tr style=\"text-align: right;\">\n",
       "      <th></th>\n",
       "      <th>Date</th>\n",
       "      <th>Open</th>\n",
       "      <th>High</th>\n",
       "      <th>Low</th>\n",
       "      <th>Close</th>\n",
       "      <th>Adj Close</th>\n",
       "      <th>Volume</th>\n",
       "    </tr>\n",
       "  </thead>\n",
       "  <tbody>\n",
       "    <tr>\n",
       "      <th>1323</th>\n",
       "      <td>2022-03-25</td>\n",
       "      <td>502.0</td>\n",
       "      <td>507.000000</td>\n",
       "      <td>502.000000</td>\n",
       "      <td>507.0</td>\n",
       "      <td>493.078217</td>\n",
       "      <td>265108</td>\n",
       "    </tr>\n",
       "    <tr>\n",
       "      <th>1324</th>\n",
       "      <td>2022-03-28</td>\n",
       "      <td>502.0</td>\n",
       "      <td>511.000000</td>\n",
       "      <td>502.000000</td>\n",
       "      <td>506.0</td>\n",
       "      <td>492.105652</td>\n",
       "      <td>115303</td>\n",
       "    </tr>\n",
       "    <tr>\n",
       "      <th>1325</th>\n",
       "      <td>2022-03-29</td>\n",
       "      <td>502.0</td>\n",
       "      <td>520.000000</td>\n",
       "      <td>500.000000</td>\n",
       "      <td>518.0</td>\n",
       "      <td>503.776154</td>\n",
       "      <td>149574</td>\n",
       "    </tr>\n",
       "    <tr>\n",
       "      <th>1326</th>\n",
       "      <td>2022-03-30</td>\n",
       "      <td>516.0</td>\n",
       "      <td>516.989990</td>\n",
       "      <td>507.666992</td>\n",
       "      <td>513.0</td>\n",
       "      <td>498.913422</td>\n",
       "      <td>65890</td>\n",
       "    </tr>\n",
       "    <tr>\n",
       "      <th>1327</th>\n",
       "      <td>2022-03-31</td>\n",
       "      <td>514.0</td>\n",
       "      <td>516.588989</td>\n",
       "      <td>506.000000</td>\n",
       "      <td>506.0</td>\n",
       "      <td>492.105652</td>\n",
       "      <td>68055</td>\n",
       "    </tr>\n",
       "  </tbody>\n",
       "</table>\n",
       "</div>"
      ],
      "text/plain": [
       "            Date   Open        High         Low  Close   Adj Close  Volume\n",
       "1323  2022-03-25  502.0  507.000000  502.000000  507.0  493.078217  265108\n",
       "1324  2022-03-28  502.0  511.000000  502.000000  506.0  492.105652  115303\n",
       "1325  2022-03-29  502.0  520.000000  500.000000  518.0  503.776154  149574\n",
       "1326  2022-03-30  516.0  516.989990  507.666992  513.0  498.913422   65890\n",
       "1327  2022-03-31  514.0  516.588989  506.000000  506.0  492.105652   68055"
      ]
     },
     "execution_count": 3,
     "metadata": {},
     "output_type": "execute_result"
    }
   ],
   "source": [
    "data = pd.read_csv(\"./Downloads/VOF.L.csv\")\n",
    "data.tail()"
   ]
  },
  {
   "cell_type": "code",
   "execution_count": 4,
   "id": "d5bb585c",
   "metadata": {},
   "outputs": [
    {
     "data": {
      "text/html": [
       "<div>\n",
       "<style scoped>\n",
       "    .dataframe tbody tr th:only-of-type {\n",
       "        vertical-align: middle;\n",
       "    }\n",
       "\n",
       "    .dataframe tbody tr th {\n",
       "        vertical-align: top;\n",
       "    }\n",
       "\n",
       "    .dataframe thead th {\n",
       "        text-align: right;\n",
       "    }\n",
       "</style>\n",
       "<table border=\"1\" class=\"dataframe\">\n",
       "  <thead>\n",
       "    <tr style=\"text-align: right;\">\n",
       "      <th></th>\n",
       "      <th>Open</th>\n",
       "      <th>High</th>\n",
       "      <th>Low</th>\n",
       "      <th>Close</th>\n",
       "      <th>Adj Close</th>\n",
       "      <th>Volume</th>\n",
       "    </tr>\n",
       "    <tr>\n",
       "      <th>Date</th>\n",
       "      <th></th>\n",
       "      <th></th>\n",
       "      <th></th>\n",
       "      <th></th>\n",
       "      <th></th>\n",
       "      <th></th>\n",
       "    </tr>\n",
       "  </thead>\n",
       "  <tbody>\n",
       "    <tr>\n",
       "      <th>2017-01-03</th>\n",
       "      <td>272.0</td>\n",
       "      <td>275.00</td>\n",
       "      <td>272.00</td>\n",
       "      <td>273.25</td>\n",
       "      <td>233.939148</td>\n",
       "      <td>170046</td>\n",
       "    </tr>\n",
       "    <tr>\n",
       "      <th>2017-01-04</th>\n",
       "      <td>272.0</td>\n",
       "      <td>275.00</td>\n",
       "      <td>272.00</td>\n",
       "      <td>272.75</td>\n",
       "      <td>233.511093</td>\n",
       "      <td>107823</td>\n",
       "    </tr>\n",
       "    <tr>\n",
       "      <th>2017-01-05</th>\n",
       "      <td>272.0</td>\n",
       "      <td>274.50</td>\n",
       "      <td>270.25</td>\n",
       "      <td>272.50</td>\n",
       "      <td>233.297043</td>\n",
       "      <td>391623</td>\n",
       "    </tr>\n",
       "    <tr>\n",
       "      <th>2017-01-06</th>\n",
       "      <td>272.5</td>\n",
       "      <td>273.75</td>\n",
       "      <td>266.00</td>\n",
       "      <td>273.00</td>\n",
       "      <td>233.725098</td>\n",
       "      <td>464329</td>\n",
       "    </tr>\n",
       "    <tr>\n",
       "      <th>2017-01-09</th>\n",
       "      <td>273.0</td>\n",
       "      <td>273.50</td>\n",
       "      <td>270.00</td>\n",
       "      <td>273.50</td>\n",
       "      <td>234.153183</td>\n",
       "      <td>276108</td>\n",
       "    </tr>\n",
       "  </tbody>\n",
       "</table>\n",
       "</div>"
      ],
      "text/plain": [
       "             Open    High     Low   Close   Adj Close  Volume\n",
       "Date                                                         \n",
       "2017-01-03  272.0  275.00  272.00  273.25  233.939148  170046\n",
       "2017-01-04  272.0  275.00  272.00  272.75  233.511093  107823\n",
       "2017-01-05  272.0  274.50  270.25  272.50  233.297043  391623\n",
       "2017-01-06  272.5  273.75  266.00  273.00  233.725098  464329\n",
       "2017-01-09  273.0  273.50  270.00  273.50  234.153183  276108"
      ]
     },
     "execution_count": 4,
     "metadata": {},
     "output_type": "execute_result"
    }
   ],
   "source": [
    "data.index = pd.to_datetime(data['Date'])\n",
    "data.drop(columns='Date',inplace=True)\n",
    "data.head()"
   ]
  },
  {
   "cell_type": "code",
   "execution_count": 5,
   "id": "6ab7358a",
   "metadata": {},
   "outputs": [
    {
     "data": {
      "text/plain": [
       "<AxesSubplot:xlabel='Date'>"
      ]
     },
     "execution_count": 5,
     "metadata": {},
     "output_type": "execute_result"
    },
    {
     "data": {
      "image/png": "[encoded data removed]",
      "text/plain": [
       "<Figure size 640x480 with 1 Axes>"
      ]
     },
     "metadata": {},
     "output_type": "display_data"
    }
   ],
   "source": [
    "data.plot()"
   ]
  },
  {
   "cell_type": "code",
   "execution_count": 6,
   "id": "5ba1e252",
   "metadata": {},
   "outputs": [
    {
     "data": {
      "text/plain": [
       "Open         0\n",
       "High         0\n",
       "Low          0\n",
       "Close        0\n",
       "Adj Close    0\n",
       "Volume       0\n",
       "dtype: int64"
      ]
     },
     "execution_count": 6,
     "metadata": {},
     "output_type": "execute_result"
    }
   ],
   "source": [
    "data.isna().sum()"
   ]
  },
  {
   "cell_type": "code",
   "execution_count": 7,
   "id": "c891c8cc",
   "metadata": {
    "scrolled": true
   },
   "outputs": [
    {
     "data": {
      "text/plain": [
       "Index(['Open', 'High', 'Low', 'Close', 'Adj Close', 'Volume'], dtype='object')"
      ]
     },
     "execution_count": 7,
     "metadata": {},
     "output_type": "execute_result"
    }
   ],
   "source": [
    "data.columns"
   ]
  },
  {
   "cell_type": "code",
   "execution_count": 8,
   "id": "c5e7967a",
   "metadata": {},
   "outputs": [
    {
     "name": "stdout",
     "output_type": "stream",
     "text": [
      "<class 'pandas.core.frame.DataFrame'>\n",
      "DatetimeIndex: 1328 entries, 2017-01-03 to 2022-03-31\n",
      "Data columns (total 6 columns):\n",
      " #   Column     Non-Null Count  Dtype  \n",
      "---  ------     --------------  -----  \n",
      " 0   Open       1328 non-null   float64\n",
      " 1   High       1328 non-null   float64\n",
      " 2   Low        1328 non-null   float64\n",
      " 3   Close      1328 non-null   float64\n",
      " 4   Adj Close  1328 non-null   float64\n",
      " 5   Volume     1328 non-null   int64  \n",
      "dtypes: float64(5), int64(1)\n",
      "memory usage: 72.6 KB\n"
     ]
    }
   ],
   "source": [
    "data.info()"
   ]
  },
  {
   "cell_type": "code",
   "execution_count": 9,
   "id": "dcef2e84",
   "metadata": {
    "scrolled": false
   },
   "outputs": [],
   "source": [
    "from statsmodels.tsa.seasonal import seasonal_decompose"
   ]
  },
  {
   "cell_type": "code",
   "execution_count": 10,
   "id": "625a8a4c",
   "metadata": {},
   "outputs": [],
   "source": [
    "m = seasonal_decompose(data[\"Open\"], period = 7)"
   ]
  },
  {
   "cell_type": "code",
   "execution_count": 11,
   "id": "e4aeb782",
   "metadata": {},
   "outputs": [],
   "source": [
    "m1=m.seasonal"
   ]
  },
  {
   "cell_type": "code",
   "execution_count": 12,
   "id": "5b3e95ed",
   "metadata": {},
   "outputs": [
    {
     "data": {
      "text/plain": [
       "<AxesSubplot:xlabel='Date'>"
      ]
     },
     "execution_count": 12,
     "metadata": {},
     "output_type": "execute_result"
    },
    {
     "data": {
      "image/png": "[encoded data removed]",
      "text/plain": [
       "<Figure size 640x480 with 1 Axes>"
      ]
     },
     "metadata": {},
     "output_type": "display_data"
    }
   ],
   "source": [
    "m1[0:21].plot()"
   ]
  },
  {
   "cell_type": "code",
   "execution_count": 13,
   "id": "19b0a769",
   "metadata": {},
   "outputs": [],
   "source": [
    "m2 = seasonal_decompose(data[\"High\"], period=7)"
   ]
  },
  {
   "cell_type": "code",
   "execution_count": 14,
   "id": "76df841c",
   "metadata": {},
   "outputs": [],
   "source": [
    "s1 =m2.seasonal"
   ]
  },
  {
   "cell_type": "code",
   "execution_count": 15,
   "id": "2b5cdfa9",
   "metadata": {},
   "outputs": [
    {
     "data": {
      "text/plain": [
       "<AxesSubplot:xlabel='Date'>"
      ]
     },
     "execution_count": 15,
     "metadata": {},
     "output_type": "execute_result"
    },
    {
     "data": {
      "image/png": "[encoded data removed]",
      "text/plain": [
       "<Figure size 640x480 with 1 Axes>"
      ]
     },
     "metadata": {},
     "output_type": "display_data"
    }
   ],
   "source": [
    "s1[0:21].plot()"
   ]
  },
  {
   "cell_type": "code",
   "execution_count": 16,
   "id": "967cbe69",
   "metadata": {},
   "outputs": [],
   "source": [
    "m3 = seasonal_decompose(data[\"Low\"], period=7)"
   ]
  },
  {
   "cell_type": "code",
   "execution_count": 17,
   "id": "681e55bf",
   "metadata": {},
   "outputs": [],
   "source": [
    "s2 = m3.seasonal"
   ]
  },
  {
   "cell_type": "code",
   "execution_count": 18,
   "id": "bbe98ffc",
   "metadata": {},
   "outputs": [
    {
     "data": {
      "text/plain": [
       "<AxesSubplot:xlabel='Date'>"
      ]
     },
     "execution_count": 18,
     "metadata": {},
     "output_type": "execute_result"
    },
    {
     "data": {
      "image/png": "[encoded data removed]",
      "text/plain": [
       "<Figure size 640x480 with 1 Axes>"
      ]
     },
     "metadata": {},
     "output_type": "display_data"
    }
   ],
   "source": [
    "s2[0:21].plot()"
   ]
  },
  {
   "cell_type": "code",
   "execution_count": 19,
   "id": "ac70061a",
   "metadata": {},
   "outputs": [],
   "source": [
    "m4 = seasonal_decompose(data[\"Close\"], period=7)"
   ]
  },
  {
   "cell_type": "code",
   "execution_count": 20,
   "id": "f9598493",
   "metadata": {},
   "outputs": [],
   "source": [
    "s3 = m4.seasonal"
   ]
  },
  {
   "cell_type": "code",
   "execution_count": 21,
   "id": "e2b3e34c",
   "metadata": {},
   "outputs": [
    {
     "data": {
      "text/plain": [
       "<AxesSubplot:xlabel='Date'>"
      ]
     },
     "execution_count": 21,
     "metadata": {},
     "output_type": "execute_result"
    },
    {
     "data": {
      "image/png": "[encoded data removed]",
      "text/plain": [
       "<Figure size 640x480 with 1 Axes>"
      ]
     },
     "metadata": {},
     "output_type": "display_data"
    }
   ],
   "source": [
    "s3[0:21].plot()"
   ]
  },
  {
   "cell_type": "code",
   "execution_count": 22,
   "id": "eb0c3c78",
   "metadata": {},
   "outputs": [
    {
     "name": "stdout",
     "output_type": "stream",
     "text": [
      "Requirement already satisfied: pmdarima in c:\\users\\danthiee\\anaconda3\\lib\\site-packages (2.0.2)\n",
      "Requirement already satisfied: scipy>=1.3.2 in c:\\users\\danthiee\\anaconda3\\lib\\site-packages (from pmdarima) (1.9.1)\n",
      "Requirement already satisfied: pandas>=0.19 in c:\\users\\danthiee\\anaconda3\\lib\\site-packages (from pmdarima) (1.4.4)\n",
      "Requirement already satisfied: Cython!=0.29.18,!=0.29.31,>=0.29 in c:\\users\\danthiee\\anaconda3\\lib\\site-packages (from pmdarima) (0.29.32)\n",
      "Requirement already satisfied: numpy>=1.21.2 in c:\\users\\danthiee\\anaconda3\\lib\\site-packages (from pmdarima) (1.21.5)\n",
      "Requirement already satisfied: urllib3 in c:\\users\\danthiee\\anaconda3\\lib\\site-packages (from pmdarima) (1.26.11)\n",
      "Requirement already satisfied: joblib>=0.11 in c:\\users\\danthiee\\anaconda3\\lib\\site-packages (from pmdarima) (1.1.0)\n",
      "Requirement already satisfied: statsmodels>=0.13.2 in c:\\users\\danthiee\\anaconda3\\lib\\site-packages (from pmdarima) (0.13.2)\n",
      "Requirement already satisfied: setuptools!=50.0.0,>=38.6.0 in c:\\users\\danthiee\\anaconda3\\lib\\site-packages (from pmdarima) (63.4.1)\n",
      "Requirement already satisfied: scikit-learn>=0.22 in c:\\users\\danthiee\\anaconda3\\lib\\site-packages (from pmdarima) (1.0.2)\n",
      "Requirement already satisfied: pytz>=2020.1 in c:\\users\\danthiee\\anaconda3\\lib\\site-packages (from pandas>=0.19->pmdarima) (2022.1)\n",
      "Requirement already satisfied: python-dateutil>=2.8.1 in c:\\users\\danthiee\\anaconda3\\lib\\site-packages (from pandas>=0.19->pmdarima) (2.8.2)\n",
      "Requirement already satisfied: threadpoolctl>=2.0.0 in c:\\users\\danthiee\\anaconda3\\lib\\site-packages (from scikit-learn>=0.22->pmdarima) (2.2.0)\n",
      "Requirement already satisfied: patsy>=0.5.2 in c:\\users\\danthiee\\anaconda3\\lib\\site-packages (from statsmodels>=0.13.2->pmdarima) (0.5.2)\n",
      "Requirement already satisfied: packaging>=21.3 in c:\\users\\danthiee\\anaconda3\\lib\\site-packages (from statsmodels>=0.13.2->pmdarima) (21.3)\n",
      "Requirement already satisfied: pyparsing!=3.0.5,>=2.0.2 in c:\\users\\danthiee\\anaconda3\\lib\\site-packages (from packaging>=21.3->statsmodels>=0.13.2->pmdarima) (3.0.9)\n",
      "Requirement already satisfied: six in c:\\users\\danthiee\\anaconda3\\lib\\site-packages (from patsy>=0.5.2->statsmodels>=0.13.2->pmdarima) (1.16.0)\n",
      "Note: you may need to restart the kernel to use updated packages.\n"
     ]
    }
   ],
   "source": [
    "pip install pmdarima"
   ]
  },
  {
   "cell_type": "code",
   "execution_count": 23,
   "id": "dfcead9b",
   "metadata": {},
   "outputs": [],
   "source": [
    "from pmdarima import auto_arima"
   ]
  },
  {
   "cell_type": "code",
   "execution_count": 24,
   "id": "98681768",
   "metadata": {},
   "outputs": [],
   "source": [
    "l1= list(['Open', 'High', 'Low', 'Close', 'Adj Close', 'Volume'])"
   ]
  },
  {
   "cell_type": "code",
   "execution_count": 25,
   "id": "f31ba11a",
   "metadata": {},
   "outputs": [
    {
     "data": {
      "text/plain": [
       "['Open', 'High', 'Low', 'Close', 'Adj Close', 'Volume']"
      ]
     },
     "execution_count": 25,
     "metadata": {},
     "output_type": "execute_result"
    }
   ],
   "source": [
    "l1"
   ]
  },
  {
   "cell_type": "code",
   "execution_count": 26,
   "id": "d289df73",
   "metadata": {},
   "outputs": [
    {
     "name": "stdout",
     "output_type": "stream",
     "text": [
      "<class 'pandas.core.frame.DataFrame'>\n",
      "DatetimeIndex: 1328 entries, 2017-01-03 to 2022-03-31\n",
      "Data columns (total 1 columns):\n",
      " #   Column  Non-Null Count  Dtype  \n",
      "---  ------  --------------  -----  \n",
      " 0   Open    1328 non-null   float64\n",
      "dtypes: float64(1)\n",
      "memory usage: 20.8 KB\n"
     ]
    }
   ],
   "source": [
    "data[[\"Open\"]].info()"
   ]
  },
  {
   "cell_type": "code",
   "execution_count": 27,
   "id": "d7c77e72",
   "metadata": {},
   "outputs": [],
   "source": [
    "train = data[\"Open\"].iloc[:1401]\n",
    "test = data[\"Open\"].iloc[1401:]"
   ]
  },
  {
   "cell_type": "code",
   "execution_count": 28,
   "id": "9514047c",
   "metadata": {},
   "outputs": [
    {
     "data": {
      "text/html": [
       "<table class=\"simpletable\">\n",
       "<caption>SARIMAX Results</caption>\n",
       "<tr>\n",
       "  <th>Dep. Variable:</th>                  <td>y</td>                <th>  No. Observations:  </th>   <td>1328</td>   \n",
       "</tr>\n",
       "<tr>\n",
       "  <th>Model:</th>           <td>SARIMAX(2, 1, 2)x(1, 0, [1], 7)</td> <th>  Log Likelihood     </th> <td>-3830.219</td>\n",
       "</tr>\n",
       "<tr>\n",
       "  <th>Date:</th>                   <td>Thu, 29 Dec 2022</td>         <th>  AIC                </th> <td>7674.438</td> \n",
       "</tr>\n",
       "<tr>\n",
       "  <th>Time:</th>                       <td>04:15:00</td>             <th>  BIC                </th> <td>7710.772</td> \n",
       "</tr>\n",
       "<tr>\n",
       "  <th>Sample:</th>                         <td>0</td>                <th>  HQIC               </th> <td>7688.057</td> \n",
       "</tr>\n",
       "<tr>\n",
       "  <th></th>                             <td> - 1328</td>             <th>                     </th>     <td> </td>    \n",
       "</tr>\n",
       "<tr>\n",
       "  <th>Covariance Type:</th>               <td>opg</td>               <th>                     </th>     <td> </td>    \n",
       "</tr>\n",
       "</table>\n",
       "<table class=\"simpletable\">\n",
       "<tr>\n",
       "     <td></td>        <th>coef</th>     <th>std err</th>      <th>z</th>      <th>P>|z|</th>  <th>[0.025</th>    <th>0.975]</th>  \n",
       "</tr>\n",
       "<tr>\n",
       "  <th>ar.L1</th>   <td>    1.5331</td> <td>    0.017</td> <td>   90.379</td> <td> 0.000</td> <td>    1.500</td> <td>    1.566</td>\n",
       "</tr>\n",
       "<tr>\n",
       "  <th>ar.L2</th>   <td>   -0.9403</td> <td>    0.018</td> <td>  -53.341</td> <td> 0.000</td> <td>   -0.975</td> <td>   -0.906</td>\n",
       "</tr>\n",
       "<tr>\n",
       "  <th>ma.L1</th>   <td>   -1.5444</td> <td>    0.012</td> <td> -124.036</td> <td> 0.000</td> <td>   -1.569</td> <td>   -1.520</td>\n",
       "</tr>\n",
       "<tr>\n",
       "  <th>ma.L2</th>   <td>    0.9759</td> <td>    0.012</td> <td>   79.119</td> <td> 0.000</td> <td>    0.952</td> <td>    1.000</td>\n",
       "</tr>\n",
       "<tr>\n",
       "  <th>ar.S.L7</th> <td>   -0.7372</td> <td>    0.201</td> <td>   -3.668</td> <td> 0.000</td> <td>   -1.131</td> <td>   -0.343</td>\n",
       "</tr>\n",
       "<tr>\n",
       "  <th>ma.S.L7</th> <td>    0.7789</td> <td>    0.188</td> <td>    4.141</td> <td> 0.000</td> <td>    0.410</td> <td>    1.148</td>\n",
       "</tr>\n",
       "<tr>\n",
       "  <th>sigma2</th>  <td>   18.8090</td> <td>    0.429</td> <td>   43.891</td> <td> 0.000</td> <td>   17.969</td> <td>   19.649</td>\n",
       "</tr>\n",
       "</table>\n",
       "<table class=\"simpletable\">\n",
       "<tr>\n",
       "  <th>Ljung-Box (L1) (Q):</th>     <td>0.13</td> <th>  Jarque-Bera (JB):  </th> <td>904.83</td>\n",
       "</tr>\n",
       "<tr>\n",
       "  <th>Prob(Q):</th>                <td>0.72</td> <th>  Prob(JB):          </th>  <td>0.00</td> \n",
       "</tr>\n",
       "<tr>\n",
       "  <th>Heteroskedasticity (H):</th> <td>2.74</td> <th>  Skew:              </th>  <td>0.21</td> \n",
       "</tr>\n",
       "<tr>\n",
       "  <th>Prob(H) (two-sided):</th>    <td>0.00</td> <th>  Kurtosis:          </th>  <td>7.02</td> \n",
       "</tr>\n",
       "</table><br/><br/>Warnings:<br/>[1] Covariance matrix calculated using the outer product of gradients (complex-step)."
      ],
      "text/plain": [
       "<class 'statsmodels.iolib.summary.Summary'>\n",
       "\"\"\"\n",
       "                                      SARIMAX Results                                      \n",
       "===========================================================================================\n",
       "Dep. Variable:                                   y   No. Observations:                 1328\n",
       "Model:             SARIMAX(2, 1, 2)x(1, 0, [1], 7)   Log Likelihood               -3830.219\n",
       "Date:                             Thu, 29 Dec 2022   AIC                           7674.438\n",
       "Time:                                     04:15:00   BIC                           7710.772\n",
       "Sample:                                          0   HQIC                          7688.057\n",
       "                                            - 1328                                         \n",
       "Covariance Type:                               opg                                         \n",
       "==============================================================================\n",
       "                 coef    std err          z      P>|z|      [0.025      0.975]\n",
       "------------------------------------------------------------------------------\n",
       "ar.L1          1.5331      0.017     90.379      0.000       1.500       1.566\n",
       "ar.L2         -0.9403      0.018    -53.341      0.000      -0.975      -0.906\n",
       "ma.L1         -1.5444      0.012   -124.036      0.000      -1.569      -1.520\n",
       "ma.L2          0.9759      0.012     79.119      0.000       0.952       1.000\n",
       "ar.S.L7       -0.7372      0.201     -3.668      0.000      -1.131      -0.343\n",
       "ma.S.L7        0.7789      0.188      4.141      0.000       0.410       1.148\n",
       "sigma2        18.8090      0.429     43.891      0.000      17.969      19.649\n",
       "===================================================================================\n",
       "Ljung-Box (L1) (Q):                   0.13   Jarque-Bera (JB):               904.83\n",
       "Prob(Q):                              0.72   Prob(JB):                         0.00\n",
       "Heteroskedasticity (H):               2.74   Skew:                             0.21\n",
       "Prob(H) (two-sided):                  0.00   Kurtosis:                         7.02\n",
       "===================================================================================\n",
       "\n",
       "Warnings:\n",
       "[1] Covariance matrix calculated using the outer product of gradients (complex-step).\n",
       "\"\"\""
      ]
     },
     "execution_count": 28,
     "metadata": {},
     "output_type": "execute_result"
    }
   ],
   "source": [
    "auto_arima(train, m=7, seasonal=True).summary()"
   ]
  },
  {
   "cell_type": "code",
   "execution_count": 29,
   "id": "52cc9f72",
   "metadata": {},
   "outputs": [],
   "source": [
    "from statsmodels.tsa.statespace.sarimax import SARIMAX"
   ]
  },
  {
   "cell_type": "code",
   "execution_count": 30,
   "id": "9d2b593d",
   "metadata": {},
   "outputs": [
    {
     "ename": "TypeError",
     "evalue": "__init__() missing 1 required positional argument: 'endog'",
     "output_type": "error",
     "traceback": [
      "\u001b[1;31m---------------------------------------------------------------------------\u001b[0m",
      "\u001b[1;31mTypeError\u001b[0m                                 Traceback (most recent call last)",
      "\u001b[1;32m~\\AppData\\Local\\Temp\\ipykernel_14448\\129267667.py\u001b[0m in \u001b[0;36m<module>\u001b[1;34m\u001b[0m\n\u001b[1;32m----> 1\u001b[1;33m \u001b[0mmodel\u001b[0m \u001b[1;33m=\u001b[0m \u001b[0mSARIMAX\u001b[0m\u001b[1;33m(\u001b[0m\u001b[1;33m)\u001b[0m\u001b[1;33m\u001b[0m\u001b[1;33m\u001b[0m\u001b[0m\n\u001b[0m",
      "\u001b[1;31mTypeError\u001b[0m: __init__() missing 1 required positional argument: 'endog'"
     ]
    }
   ],
   "source": [
    "model = SARIMAX()"
   ]
  },
  {
   "cell_type": "code",
   "execution_count": 31,
   "id": "80af2106",
   "metadata": {},
   "outputs": [
    {
     "data": {
      "text/plain": [
       "ARIMA(order=(2, 1, 2), scoring_args={}, seasonal_order=(1, 0, 1, 7),\n",
       "      suppress_warnings=True, with_intercept=False)"
      ]
     },
     "execution_count": 31,
     "metadata": {},
     "output_type": "execute_result"
    }
   ],
   "source": [
    "auto_arima(data[\"Open\"], m=7, seasonal=True)"
   ]
  },
  {
   "cell_type": "code",
   "execution_count": 32,
   "id": "b7efa47c",
   "metadata": {},
   "outputs": [],
   "source": [
    "from statsmodels.tsa.statespace.sarimax import SARIMAX"
   ]
  },
  {
   "cell_type": "code",
   "execution_count": 33,
   "id": "bdb0b90c",
   "metadata": {},
   "outputs": [],
   "source": [
    "start=len(train)\n",
    "end=len(train)+len(test)-1"
   ]
  },
  {
   "cell_type": "code",
   "execution_count": 36,
   "id": "82b34375",
   "metadata": {},
   "outputs": [
    {
     "name": "stderr",
     "output_type": "stream",
     "text": [
      "C:\\Users\\danthiee\\anaconda3\\lib\\site-packages\\statsmodels\\tsa\\base\\tsa_model.py:471: ValueWarning: A date index has been provided, but it has no associated frequency information and so will be ignored when e.g. forecasting.\n",
      "  self._init_dates(dates, freq)\n",
      "C:\\Users\\danthiee\\anaconda3\\lib\\site-packages\\statsmodels\\tsa\\base\\tsa_model.py:471: ValueWarning: A date index has been provided, but it has no associated frequency information and so will be ignored when e.g. forecasting.\n",
      "  self._init_dates(dates, freq)\n"
     ]
    }
   ],
   "source": [
    "model1 = SARIMAX(train,order=(2, 1, 2), seasonal_order=(1, 0, 1, 7))"
   ]
  },
  {
   "cell_type": "code",
   "execution_count": 37,
   "id": "09b5fc98",
   "metadata": {},
   "outputs": [],
   "source": [
    "results= model1.fit()"
   ]
  },
  {
   "cell_type": "code",
   "execution_count": 38,
   "id": "64f0bdde",
   "metadata": {},
   "outputs": [
    {
     "name": "stderr",
     "output_type": "stream",
     "text": [
      "C:\\Users\\danthiee\\anaconda3\\lib\\site-packages\\statsmodels\\tsa\\base\\tsa_model.py:834: ValueWarning: No supported index is available. Prediction results will be given with an integer index beginning at `start`.\n",
      "  return get_prediction_index(\n"
     ]
    }
   ],
   "source": [
    "prerdictions = results.predict(start=end, end=start, dynamic=False, typ='levels')"
   ]
  },
  {
   "cell_type": "code",
   "execution_count": 39,
   "id": "dd6d8eaa",
   "metadata": {},
   "outputs": [
    {
     "data": {
      "text/plain": [
       "1327    517.385401\n",
       "1328    515.506211\n",
       "Name: predicted_mean, dtype: float64"
      ]
     },
     "execution_count": 39,
     "metadata": {},
     "output_type": "execute_result"
    }
   ],
   "source": [
    "prerdictions"
   ]
  },
  {
   "cell_type": "code",
   "execution_count": 40,
   "id": "9992dabb",
   "metadata": {},
   "outputs": [
    {
     "data": {
      "text/plain": [
       "2"
      ]
     },
     "execution_count": 40,
     "metadata": {},
     "output_type": "execute_result"
    }
   ],
   "source": [
    "len(prerdictions)"
   ]
  },
  {
   "cell_type": "code",
   "execution_count": 41,
   "id": "7a7e1e36",
   "metadata": {},
   "outputs": [
    {
     "name": "stderr",
     "output_type": "stream",
     "text": [
      "C:\\Users\\danthiee\\anaconda3\\lib\\site-packages\\statsmodels\\tsa\\base\\tsa_model.py:834: ValueWarning: No supported index is available. Prediction results will be given with an integer index beginning at `start`.\n",
      "  return get_prediction_index(\n"
     ]
    }
   ],
   "source": [
    "x1 =results.forecast(10)"
   ]
  },
  {
   "cell_type": "code",
   "execution_count": 42,
   "id": "8d21e926",
   "metadata": {},
   "outputs": [
    {
     "data": {
      "text/plain": [
       "1328    515.506211\n",
       "1329    516.969204\n",
       "1330    517.355623\n",
       "1331    517.355138\n",
       "1332    516.432745\n",
       "1333    515.985658\n",
       "1334    514.087420\n",
       "1335    513.340582\n",
       "1336    513.417373\n",
       "1337    514.561819\n",
       "Name: predicted_mean, dtype: float64"
      ]
     },
     "execution_count": 42,
     "metadata": {},
     "output_type": "execute_result"
    }
   ],
   "source": [
    "x1"
   ]
  },
  {
   "cell_type": "code",
   "execution_count": 43,
   "id": "26e1523e",
   "metadata": {},
   "outputs": [
    {
     "data": {
      "text/plain": [
       "514.5618192121112"
      ]
     },
     "execution_count": 43,
     "metadata": {},
     "output_type": "execute_result"
    }
   ],
   "source": [
    "x1.iloc[-1]"
   ]
  },
  {
   "cell_type": "code",
   "execution_count": 44,
   "id": "9bff8d75",
   "metadata": {},
   "outputs": [
    {
     "data": {
      "text/plain": [
       "<AxesSubplot:>"
      ]
     },
     "execution_count": 44,
     "metadata": {},
     "output_type": "execute_result"
    },
    {
     "data": {
      "image/png": "[encoded data removed]",
      "text/plain": [
       "<Figure size 640x480 with 1 Axes>"
      ]
     },
     "metadata": {},
     "output_type": "display_data"
    }
   ],
   "source": [
    "x1.plot()"
   ]
  },
  {
   "cell_type": "code",
   "execution_count": 45,
   "id": "1b2321cd",
   "metadata": {},
   "outputs": [
    {
     "name": "stdout",
     "output_type": "stream",
     "text": [
      "<class 'pandas.core.frame.DataFrame'>\n",
      "DatetimeIndex: 1328 entries, 2017-01-03 to 2022-03-31\n",
      "Data columns (total 1 columns):\n",
      " #   Column  Non-Null Count  Dtype  \n",
      "---  ------  --------------  -----  \n",
      " 0   High    1328 non-null   float64\n",
      "dtypes: float64(1)\n",
      "memory usage: 20.8 KB\n"
     ]
    }
   ],
   "source": [
    "data[[\"High\"]].info()"
   ]
  },
  {
   "cell_type": "code",
   "execution_count": 46,
   "id": "286170d9",
   "metadata": {},
   "outputs": [],
   "source": [
    "train = data[\"High\"].iloc[:1401]\n",
    "test = data[\"High\"].iloc[1401:]"
   ]
  },
  {
   "cell_type": "code",
   "execution_count": 47,
   "id": "460300f7",
   "metadata": {},
   "outputs": [
    {
     "data": {
      "text/html": [
       "<table class=\"simpletable\">\n",
       "<caption>SARIMAX Results</caption>\n",
       "<tr>\n",
       "  <th>Dep. Variable:</th>           <td>y</td>        <th>  No. Observations:  </th>   <td>1328</td>   \n",
       "</tr>\n",
       "<tr>\n",
       "  <th>Model:</th>           <td>SARIMAX(1, 1, 0)</td> <th>  Log Likelihood     </th> <td>-3598.784</td>\n",
       "</tr>\n",
       "<tr>\n",
       "  <th>Date:</th>            <td>Thu, 29 Dec 2022</td> <th>  AIC                </th> <td>7203.567</td> \n",
       "</tr>\n",
       "<tr>\n",
       "  <th>Time:</th>                <td>04:27:43</td>     <th>  BIC                </th> <td>7219.139</td> \n",
       "</tr>\n",
       "<tr>\n",
       "  <th>Sample:</th>                  <td>0</td>        <th>  HQIC               </th> <td>7209.404</td> \n",
       "</tr>\n",
       "<tr>\n",
       "  <th></th>                      <td> - 1328</td>     <th>                     </th>     <td> </td>    \n",
       "</tr>\n",
       "<tr>\n",
       "  <th>Covariance Type:</th>        <td>opg</td>       <th>                     </th>     <td> </td>    \n",
       "</tr>\n",
       "</table>\n",
       "<table class=\"simpletable\">\n",
       "<tr>\n",
       "      <td></td>         <th>coef</th>     <th>std err</th>      <th>z</th>      <th>P>|z|</th>  <th>[0.025</th>    <th>0.975]</th>  \n",
       "</tr>\n",
       "<tr>\n",
       "  <th>intercept</th> <td>    0.1544</td> <td>    0.102</td> <td>    1.516</td> <td> 0.130</td> <td>   -0.045</td> <td>    0.354</td>\n",
       "</tr>\n",
       "<tr>\n",
       "  <th>ar.L1</th>     <td>    0.1518</td> <td>    0.017</td> <td>    8.840</td> <td> 0.000</td> <td>    0.118</td> <td>    0.185</td>\n",
       "</tr>\n",
       "<tr>\n",
       "  <th>sigma2</th>    <td>   13.2771</td> <td>    0.227</td> <td>   58.538</td> <td> 0.000</td> <td>   12.833</td> <td>   13.722</td>\n",
       "</tr>\n",
       "</table>\n",
       "<table class=\"simpletable\">\n",
       "<tr>\n",
       "  <th>Ljung-Box (L1) (Q):</th>     <td>0.00</td> <th>  Jarque-Bera (JB):  </th> <td>4299.40</td>\n",
       "</tr>\n",
       "<tr>\n",
       "  <th>Prob(Q):</th>                <td>0.98</td> <th>  Prob(JB):          </th>  <td>0.00</td>  \n",
       "</tr>\n",
       "<tr>\n",
       "  <th>Heteroskedasticity (H):</th> <td>2.57</td> <th>  Skew:              </th>  <td>0.60</td>  \n",
       "</tr>\n",
       "<tr>\n",
       "  <th>Prob(H) (two-sided):</th>    <td>0.00</td> <th>  Kurtosis:          </th>  <td>11.74</td> \n",
       "</tr>\n",
       "</table><br/><br/>Warnings:<br/>[1] Covariance matrix calculated using the outer product of gradients (complex-step)."
      ],
      "text/plain": [
       "<class 'statsmodels.iolib.summary.Summary'>\n",
       "\"\"\"\n",
       "                               SARIMAX Results                                \n",
       "==============================================================================\n",
       "Dep. Variable:                      y   No. Observations:                 1328\n",
       "Model:               SARIMAX(1, 1, 0)   Log Likelihood               -3598.784\n",
       "Date:                Thu, 29 Dec 2022   AIC                           7203.567\n",
       "Time:                        04:27:43   BIC                           7219.139\n",
       "Sample:                             0   HQIC                          7209.404\n",
       "                               - 1328                                         \n",
       "Covariance Type:                  opg                                         \n",
       "==============================================================================\n",
       "                 coef    std err          z      P>|z|      [0.025      0.975]\n",
       "------------------------------------------------------------------------------\n",
       "intercept      0.1544      0.102      1.516      0.130      -0.045       0.354\n",
       "ar.L1          0.1518      0.017      8.840      0.000       0.118       0.185\n",
       "sigma2        13.2771      0.227     58.538      0.000      12.833      13.722\n",
       "===================================================================================\n",
       "Ljung-Box (L1) (Q):                   0.00   Jarque-Bera (JB):              4299.40\n",
       "Prob(Q):                              0.98   Prob(JB):                         0.00\n",
       "Heteroskedasticity (H):               2.57   Skew:                             0.60\n",
       "Prob(H) (two-sided):                  0.00   Kurtosis:                        11.74\n",
       "===================================================================================\n",
       "\n",
       "Warnings:\n",
       "[1] Covariance matrix calculated using the outer product of gradients (complex-step).\n",
       "\"\"\""
      ]
     },
     "execution_count": 47,
     "metadata": {},
     "output_type": "execute_result"
    }
   ],
   "source": [
    "auto_arima(train, m=7, seasonal=True).summary()"
   ]
  },
  {
   "cell_type": "code",
   "execution_count": 48,
   "id": "5ce13e07",
   "metadata": {},
   "outputs": [],
   "source": [
    "from statsmodels.tsa.statespace.sarimax import SARIMAX"
   ]
  },
  {
   "cell_type": "code",
   "execution_count": 49,
   "id": "bac3ffc0",
   "metadata": {
    "scrolled": true
   },
   "outputs": [
    {
     "ename": "TypeError",
     "evalue": "__init__() missing 1 required positional argument: 'endog'",
     "output_type": "error",
     "traceback": [
      "\u001b[1;31m---------------------------------------------------------------------------\u001b[0m",
      "\u001b[1;31mTypeError\u001b[0m                                 Traceback (most recent call last)",
      "\u001b[1;32m~\\AppData\\Local\\Temp\\ipykernel_14448\\129267667.py\u001b[0m in \u001b[0;36m<module>\u001b[1;34m\u001b[0m\n\u001b[1;32m----> 1\u001b[1;33m \u001b[0mmodel\u001b[0m \u001b[1;33m=\u001b[0m \u001b[0mSARIMAX\u001b[0m\u001b[1;33m(\u001b[0m\u001b[1;33m)\u001b[0m\u001b[1;33m\u001b[0m\u001b[1;33m\u001b[0m\u001b[0m\n\u001b[0m",
      "\u001b[1;31mTypeError\u001b[0m: __init__() missing 1 required positional argument: 'endog'"
     ]
    }
   ],
   "source": [
    "model = SARIMAX()"
   ]
  },
  {
   "cell_type": "code",
   "execution_count": 50,
   "id": "42a75832",
   "metadata": {},
   "outputs": [
    {
     "data": {
      "text/plain": [
       "ARIMA(order=(1, 1, 0), scoring_args={}, seasonal_order=(0, 0, 0, 7),\n",
       "      suppress_warnings=True)"
      ]
     },
     "execution_count": 50,
     "metadata": {},
     "output_type": "execute_result"
    }
   ],
   "source": [
    "auto_arima(data[\"High\"], m=7, seasonal=True)"
   ]
  },
  {
   "cell_type": "code",
   "execution_count": 51,
   "id": "af093991",
   "metadata": {},
   "outputs": [],
   "source": [
    "from statsmodels.tsa.statespace.sarimax import SARIMAX"
   ]
  },
  {
   "cell_type": "code",
   "execution_count": 52,
   "id": "995c8eb2",
   "metadata": {},
   "outputs": [],
   "source": [
    "start=len(train)\n",
    "end=len(train)+len(test)-1"
   ]
  },
  {
   "cell_type": "code",
   "execution_count": 56,
   "id": "ce25bf68",
   "metadata": {},
   "outputs": [
    {
     "name": "stderr",
     "output_type": "stream",
     "text": [
      "C:\\Users\\danthiee\\anaconda3\\lib\\site-packages\\statsmodels\\tsa\\base\\tsa_model.py:471: ValueWarning: A date index has been provided, but it has no associated frequency information and so will be ignored when e.g. forecasting.\n",
      "  self._init_dates(dates, freq)\n",
      "C:\\Users\\danthiee\\anaconda3\\lib\\site-packages\\statsmodels\\tsa\\base\\tsa_model.py:471: ValueWarning: A date index has been provided, but it has no associated frequency information and so will be ignored when e.g. forecasting.\n",
      "  self._init_dates(dates, freq)\n"
     ]
    }
   ],
   "source": [
    "model2 = SARIMAX(train,order=(1, 1, 0), seasonal_order=(0, 0, 0, 7))"
   ]
  },
  {
   "cell_type": "code",
   "execution_count": 57,
   "id": "a7ebb154",
   "metadata": {},
   "outputs": [],
   "source": [
    "results= model2.fit()"
   ]
  },
  {
   "cell_type": "code",
   "execution_count": 58,
   "id": "c4e9a66f",
   "metadata": {},
   "outputs": [
    {
     "name": "stderr",
     "output_type": "stream",
     "text": [
      "C:\\Users\\danthiee\\anaconda3\\lib\\site-packages\\statsmodels\\tsa\\base\\tsa_model.py:834: ValueWarning: No supported index is available. Prediction results will be given with an integer index beginning at `start`.\n",
      "  return get_prediction_index(\n"
     ]
    }
   ],
   "source": [
    "prerdictions = results.predict(start=end, end=start, dynamic=False, typ='levels')"
   ]
  },
  {
   "cell_type": "code",
   "execution_count": 59,
   "id": "10ea8441",
   "metadata": {},
   "outputs": [
    {
     "data": {
      "text/plain": [
       "1327    516.526840\n",
       "1328    516.527287\n",
       "Name: predicted_mean, dtype: float64"
      ]
     },
     "execution_count": 59,
     "metadata": {},
     "output_type": "execute_result"
    }
   ],
   "source": [
    "prerdictions"
   ]
  },
  {
   "cell_type": "code",
   "execution_count": 60,
   "id": "f3cf73b4",
   "metadata": {},
   "outputs": [
    {
     "data": {
      "text/plain": [
       "2"
      ]
     },
     "execution_count": 60,
     "metadata": {},
     "output_type": "execute_result"
    }
   ],
   "source": [
    "len(prerdictions)"
   ]
  },
  {
   "cell_type": "code",
   "execution_count": 61,
   "id": "8bf393dd",
   "metadata": {},
   "outputs": [
    {
     "name": "stderr",
     "output_type": "stream",
     "text": [
      "C:\\Users\\danthiee\\anaconda3\\lib\\site-packages\\statsmodels\\tsa\\base\\tsa_model.py:834: ValueWarning: No supported index is available. Prediction results will be given with an integer index beginning at `start`.\n",
      "  return get_prediction_index(\n"
     ]
    }
   ],
   "source": [
    "x2 =results.forecast(10)"
   ]
  },
  {
   "cell_type": "code",
   "execution_count": 62,
   "id": "722e788e",
   "metadata": {},
   "outputs": [
    {
     "data": {
      "text/plain": [
       "1328    516.527287\n",
       "1329    516.517793\n",
       "1330    516.516332\n",
       "1331    516.516107\n",
       "1332    516.516073\n",
       "1333    516.516067\n",
       "1334    516.516067\n",
       "1335    516.516067\n",
       "1336    516.516066\n",
       "1337    516.516066\n",
       "Name: predicted_mean, dtype: float64"
      ]
     },
     "execution_count": 62,
     "metadata": {},
     "output_type": "execute_result"
    }
   ],
   "source": [
    "x2"
   ]
  },
  {
   "cell_type": "code",
   "execution_count": 63,
   "id": "e162ba8a",
   "metadata": {},
   "outputs": [
    {
     "data": {
      "text/plain": [
       "516.516066480808"
      ]
     },
     "execution_count": 63,
     "metadata": {},
     "output_type": "execute_result"
    }
   ],
   "source": [
    "x2.iloc[-1]"
   ]
  },
  {
   "cell_type": "code",
   "execution_count": 64,
   "id": "361bb5e3",
   "metadata": {},
   "outputs": [
    {
     "data": {
      "text/plain": [
       "<AxesSubplot:>"
      ]
     },
     "execution_count": 64,
     "metadata": {},
     "output_type": "execute_result"
    },
    {
     "data": {
      "image/png": "[encoded data removed]",
      "text/plain": [
       "<Figure size 640x480 with 1 Axes>"
      ]
     },
     "metadata": {},
     "output_type": "display_data"
    }
   ],
   "source": [
    "x2.plot()"
   ]
  },
  {
   "cell_type": "code",
   "execution_count": 65,
   "id": "b5bfcc7d",
   "metadata": {},
   "outputs": [
    {
     "name": "stdout",
     "output_type": "stream",
     "text": [
      "<class 'pandas.core.series.Series'>\n",
      "DatetimeIndex: 1328 entries, 2017-01-03 to 2022-03-31\n",
      "Series name: Low\n",
      "Non-Null Count  Dtype  \n",
      "--------------  -----  \n",
      "1328 non-null   float64\n",
      "dtypes: float64(1)\n",
      "memory usage: 20.8 KB\n"
     ]
    }
   ],
   "source": [
    "data[\"Low\"].info()"
   ]
  },
  {
   "cell_type": "code",
   "execution_count": 66,
   "id": "2aa8e084",
   "metadata": {},
   "outputs": [],
   "source": [
    "train = data[\"Low\"].iloc[:1401]\n",
    "test = data[\"Low\"].iloc[1401:]"
   ]
  },
  {
   "cell_type": "code",
   "execution_count": 67,
   "id": "34e19d1a",
   "metadata": {},
   "outputs": [
    {
     "data": {
      "text/html": [
       "<table class=\"simpletable\">\n",
       "<caption>SARIMAX Results</caption>\n",
       "<tr>\n",
       "  <th>Dep. Variable:</th>           <td>y</td>        <th>  No. Observations:  </th>   <td>1328</td>   \n",
       "</tr>\n",
       "<tr>\n",
       "  <th>Model:</th>           <td>SARIMAX(0, 1, 1)</td> <th>  Log Likelihood     </th> <td>-4148.737</td>\n",
       "</tr>\n",
       "<tr>\n",
       "  <th>Date:</th>            <td>Thu, 29 Dec 2022</td> <th>  AIC                </th> <td>8303.473</td> \n",
       "</tr>\n",
       "<tr>\n",
       "  <th>Time:</th>                <td>04:28:58</td>     <th>  BIC                </th> <td>8319.045</td> \n",
       "</tr>\n",
       "<tr>\n",
       "  <th>Sample:</th>                  <td>0</td>        <th>  HQIC               </th> <td>8309.310</td> \n",
       "</tr>\n",
       "<tr>\n",
       "  <th></th>                      <td> - 1328</td>     <th>                     </th>     <td> </td>    \n",
       "</tr>\n",
       "<tr>\n",
       "  <th>Covariance Type:</th>        <td>opg</td>       <th>                     </th>     <td> </td>    \n",
       "</tr>\n",
       "</table>\n",
       "<table class=\"simpletable\">\n",
       "<tr>\n",
       "      <td></td>         <th>coef</th>     <th>std err</th>      <th>z</th>      <th>P>|z|</th>  <th>[0.025</th>    <th>0.975]</th>  \n",
       "</tr>\n",
       "<tr>\n",
       "  <th>intercept</th> <td>    0.1765</td> <td>    0.160</td> <td>    1.102</td> <td> 0.271</td> <td>   -0.137</td> <td>    0.490</td>\n",
       "</tr>\n",
       "<tr>\n",
       "  <th>ma.L1</th>     <td>   -0.1844</td> <td>    0.007</td> <td>  -27.512</td> <td> 0.000</td> <td>   -0.198</td> <td>   -0.171</td>\n",
       "</tr>\n",
       "<tr>\n",
       "  <th>sigma2</th>    <td>   30.4122</td> <td>    0.261</td> <td>  116.389</td> <td> 0.000</td> <td>   29.900</td> <td>   30.924</td>\n",
       "</tr>\n",
       "</table>\n",
       "<table class=\"simpletable\">\n",
       "<tr>\n",
       "  <th>Ljung-Box (L1) (Q):</th>     <td>0.02</td> <th>  Jarque-Bera (JB):  </th> <td>293886.56</td>\n",
       "</tr>\n",
       "<tr>\n",
       "  <th>Prob(Q):</th>                <td>0.89</td> <th>  Prob(JB):          </th>   <td>0.00</td>   \n",
       "</tr>\n",
       "<tr>\n",
       "  <th>Heteroskedasticity (H):</th> <td>2.07</td> <th>  Skew:              </th>   <td>-2.53</td>  \n",
       "</tr>\n",
       "<tr>\n",
       "  <th>Prob(H) (two-sided):</th>    <td>0.00</td> <th>  Kurtosis:          </th>   <td>75.73</td>  \n",
       "</tr>\n",
       "</table><br/><br/>Warnings:<br/>[1] Covariance matrix calculated using the outer product of gradients (complex-step)."
      ],
      "text/plain": [
       "<class 'statsmodels.iolib.summary.Summary'>\n",
       "\"\"\"\n",
       "                               SARIMAX Results                                \n",
       "==============================================================================\n",
       "Dep. Variable:                      y   No. Observations:                 1328\n",
       "Model:               SARIMAX(0, 1, 1)   Log Likelihood               -4148.737\n",
       "Date:                Thu, 29 Dec 2022   AIC                           8303.473\n",
       "Time:                        04:28:58   BIC                           8319.045\n",
       "Sample:                             0   HQIC                          8309.310\n",
       "                               - 1328                                         \n",
       "Covariance Type:                  opg                                         \n",
       "==============================================================================\n",
       "                 coef    std err          z      P>|z|      [0.025      0.975]\n",
       "------------------------------------------------------------------------------\n",
       "intercept      0.1765      0.160      1.102      0.271      -0.137       0.490\n",
       "ma.L1         -0.1844      0.007    -27.512      0.000      -0.198      -0.171\n",
       "sigma2        30.4122      0.261    116.389      0.000      29.900      30.924\n",
       "===================================================================================\n",
       "Ljung-Box (L1) (Q):                   0.02   Jarque-Bera (JB):            293886.56\n",
       "Prob(Q):                              0.89   Prob(JB):                         0.00\n",
       "Heteroskedasticity (H):               2.07   Skew:                            -2.53\n",
       "Prob(H) (two-sided):                  0.00   Kurtosis:                        75.73\n",
       "===================================================================================\n",
       "\n",
       "Warnings:\n",
       "[1] Covariance matrix calculated using the outer product of gradients (complex-step).\n",
       "\"\"\""
      ]
     },
     "execution_count": 67,
     "metadata": {},
     "output_type": "execute_result"
    }
   ],
   "source": [
    "auto_arima(train, m=7, seasonal=True).summary()"
   ]
  },
  {
   "cell_type": "code",
   "execution_count": 68,
   "id": "f34b70df",
   "metadata": {},
   "outputs": [],
   "source": [
    "from statsmodels.tsa.statespace.sarimax import SARIMAX"
   ]
  },
  {
   "cell_type": "code",
   "execution_count": 69,
   "id": "d8d8a0e5",
   "metadata": {},
   "outputs": [
    {
     "ename": "TypeError",
     "evalue": "__init__() missing 1 required positional argument: 'endog'",
     "output_type": "error",
     "traceback": [
      "\u001b[1;31m---------------------------------------------------------------------------\u001b[0m",
      "\u001b[1;31mTypeError\u001b[0m                                 Traceback (most recent call last)",
      "\u001b[1;32m~\\AppData\\Local\\Temp\\ipykernel_14448\\129267667.py\u001b[0m in \u001b[0;36m<module>\u001b[1;34m\u001b[0m\n\u001b[1;32m----> 1\u001b[1;33m \u001b[0mmodel\u001b[0m \u001b[1;33m=\u001b[0m \u001b[0mSARIMAX\u001b[0m\u001b[1;33m(\u001b[0m\u001b[1;33m)\u001b[0m\u001b[1;33m\u001b[0m\u001b[1;33m\u001b[0m\u001b[0m\n\u001b[0m",
      "\u001b[1;31mTypeError\u001b[0m: __init__() missing 1 required positional argument: 'endog'"
     ]
    }
   ],
   "source": [
    "model = SARIMAX()"
   ]
  },
  {
   "cell_type": "code",
   "execution_count": 70,
   "id": "4a4f591a",
   "metadata": {},
   "outputs": [
    {
     "data": {
      "text/plain": [
       "ARIMA(order=(0, 1, 1), scoring_args={}, seasonal_order=(0, 0, 0, 7),\n",
       "      suppress_warnings=True)"
      ]
     },
     "execution_count": 70,
     "metadata": {},
     "output_type": "execute_result"
    }
   ],
   "source": [
    "auto_arima(data[\"Low\"], m=7, seasonal=True)"
   ]
  },
  {
   "cell_type": "code",
   "execution_count": 71,
   "id": "cac24ec7",
   "metadata": {},
   "outputs": [],
   "source": [
    "from statsmodels.tsa.statespace.sarimax import SARIMAX"
   ]
  },
  {
   "cell_type": "code",
   "execution_count": 72,
   "id": "2413ecc7",
   "metadata": {},
   "outputs": [],
   "source": [
    "start=len(train)\n",
    "end=len(train)+len(test)-1"
   ]
  },
  {
   "cell_type": "code",
   "execution_count": 73,
   "id": "a004a7b2",
   "metadata": {},
   "outputs": [
    {
     "name": "stderr",
     "output_type": "stream",
     "text": [
      "C:\\Users\\danthiee\\anaconda3\\lib\\site-packages\\statsmodels\\tsa\\base\\tsa_model.py:471: ValueWarning: A date index has been provided, but it has no associated frequency information and so will be ignored when e.g. forecasting.\n",
      "  self._init_dates(dates, freq)\n",
      "C:\\Users\\danthiee\\anaconda3\\lib\\site-packages\\statsmodels\\tsa\\base\\tsa_model.py:471: ValueWarning: A date index has been provided, but it has no associated frequency information and so will be ignored when e.g. forecasting.\n",
      "  self._init_dates(dates, freq)\n"
     ]
    }
   ],
   "source": [
    "model1 = SARIMAX(train,order=(0, 1, 1), seasonal_order=(0, 0, 0, 7))"
   ]
  },
  {
   "cell_type": "code",
   "execution_count": 74,
   "id": "bbe6ea03",
   "metadata": {},
   "outputs": [],
   "source": [
    "results= model1.fit()"
   ]
  },
  {
   "cell_type": "code",
   "execution_count": 75,
   "id": "950b2b82",
   "metadata": {},
   "outputs": [
    {
     "name": "stderr",
     "output_type": "stream",
     "text": [
      "C:\\Users\\danthiee\\anaconda3\\lib\\site-packages\\statsmodels\\tsa\\base\\tsa_model.py:834: ValueWarning: No supported index is available. Prediction results will be given with an integer index beginning at `start`.\n",
      "  return get_prediction_index(\n"
     ]
    }
   ],
   "source": [
    "prerdictions = results.predict(start=end, end=start, dynamic=False, typ='levels')"
   ]
  },
  {
   "cell_type": "code",
   "execution_count": 76,
   "id": "6ea3a980",
   "metadata": {},
   "outputs": [
    {
     "data": {
      "text/plain": [
       "1327    506.332682\n",
       "1328    506.060761\n",
       "Name: predicted_mean, dtype: float64"
      ]
     },
     "execution_count": 76,
     "metadata": {},
     "output_type": "execute_result"
    }
   ],
   "source": [
    "prerdictions"
   ]
  },
  {
   "cell_type": "code",
   "execution_count": 77,
   "id": "8c9d4e08",
   "metadata": {},
   "outputs": [
    {
     "data": {
      "text/plain": [
       "2"
      ]
     },
     "execution_count": 77,
     "metadata": {},
     "output_type": "execute_result"
    }
   ],
   "source": [
    "len(prerdictions)"
   ]
  },
  {
   "cell_type": "code",
   "execution_count": 78,
   "id": "a5e7c675",
   "metadata": {},
   "outputs": [
    {
     "name": "stderr",
     "output_type": "stream",
     "text": [
      "C:\\Users\\danthiee\\anaconda3\\lib\\site-packages\\statsmodels\\tsa\\base\\tsa_model.py:834: ValueWarning: No supported index is available. Prediction results will be given with an integer index beginning at `start`.\n",
      "  return get_prediction_index(\n"
     ]
    }
   ],
   "source": [
    "x3 =results.forecast(10)"
   ]
  },
  {
   "cell_type": "code",
   "execution_count": 79,
   "id": "bd10a314",
   "metadata": {},
   "outputs": [
    {
     "data": {
      "text/plain": [
       "1328    506.060761\n",
       "1329    506.060761\n",
       "1330    506.060761\n",
       "1331    506.060761\n",
       "1332    506.060761\n",
       "1333    506.060761\n",
       "1334    506.060761\n",
       "1335    506.060761\n",
       "1336    506.060761\n",
       "1337    506.060761\n",
       "Name: predicted_mean, dtype: float64"
      ]
     },
     "execution_count": 79,
     "metadata": {},
     "output_type": "execute_result"
    }
   ],
   "source": [
    "x3"
   ]
  },
  {
   "cell_type": "code",
   "execution_count": 80,
   "id": "ab5a1b37",
   "metadata": {},
   "outputs": [
    {
     "data": {
      "text/plain": [
       "506.06076063563273"
      ]
     },
     "execution_count": 80,
     "metadata": {},
     "output_type": "execute_result"
    }
   ],
   "source": [
    "x3.iloc[-1]"
   ]
  },
  {
   "cell_type": "code",
   "execution_count": 81,
   "id": "75fc149b",
   "metadata": {},
   "outputs": [
    {
     "data": {
      "text/plain": [
       "<AxesSubplot:>"
      ]
     },
     "execution_count": 81,
     "metadata": {},
     "output_type": "execute_result"
    },
    {
     "data": {
      "image/png": "[encoded data removed]",
      "text/plain": [
       "<Figure size 640x480 with 1 Axes>"
      ]
     },
     "metadata": {},
     "output_type": "display_data"
    }
   ],
   "source": [
    "x3.plot()"
   ]
  },
  {
   "cell_type": "code",
   "execution_count": 82,
   "id": "db00fa32",
   "metadata": {},
   "outputs": [
    {
     "name": "stdout",
     "output_type": "stream",
     "text": [
      "<class 'pandas.core.series.Series'>\n",
      "DatetimeIndex: 1328 entries, 2017-01-03 to 2022-03-31\n",
      "Series name: Close\n",
      "Non-Null Count  Dtype  \n",
      "--------------  -----  \n",
      "1328 non-null   float64\n",
      "dtypes: float64(1)\n",
      "memory usage: 20.8 KB\n"
     ]
    }
   ],
   "source": [
    "data[\"Close\"].info()"
   ]
  },
  {
   "cell_type": "code",
   "execution_count": 83,
   "id": "41e1ccf5",
   "metadata": {},
   "outputs": [],
   "source": [
    "train = data[\"Close\"].iloc[:1401]\n",
    "test = data[\"Close\"].iloc[1401:]"
   ]
  },
  {
   "cell_type": "code",
   "execution_count": 87,
   "id": "7e9f63c7",
   "metadata": {
    "scrolled": true
   },
   "outputs": [
    {
     "data": {
      "text/html": [
       "<table class=\"simpletable\">\n",
       "<caption>SARIMAX Results</caption>\n",
       "<tr>\n",
       "  <th>Dep. Variable:</th>                  <td>y</td>                <th>  No. Observations:  </th>   <td>1328</td>   \n",
       "</tr>\n",
       "<tr>\n",
       "  <th>Model:</th>           <td>SARIMAX(2, 1, 2)x(1, 0, [1], 7)</td> <th>  Log Likelihood     </th> <td>-3818.942</td>\n",
       "</tr>\n",
       "<tr>\n",
       "  <th>Date:</th>                   <td>Thu, 29 Dec 2022</td>         <th>  AIC                </th> <td>7651.883</td> \n",
       "</tr>\n",
       "<tr>\n",
       "  <th>Time:</th>                       <td>04:38:30</td>             <th>  BIC                </th> <td>7688.218</td> \n",
       "</tr>\n",
       "<tr>\n",
       "  <th>Sample:</th>                         <td>0</td>                <th>  HQIC               </th> <td>7665.502</td> \n",
       "</tr>\n",
       "<tr>\n",
       "  <th></th>                             <td> - 1328</td>             <th>                     </th>     <td> </td>    \n",
       "</tr>\n",
       "<tr>\n",
       "  <th>Covariance Type:</th>               <td>opg</td>               <th>                     </th>     <td> </td>    \n",
       "</tr>\n",
       "</table>\n",
       "<table class=\"simpletable\">\n",
       "<tr>\n",
       "     <td></td>        <th>coef</th>     <th>std err</th>      <th>z</th>      <th>P>|z|</th>  <th>[0.025</th>    <th>0.975]</th>  \n",
       "</tr>\n",
       "<tr>\n",
       "  <th>ar.L1</th>   <td>    1.5433</td> <td>    0.027</td> <td>   56.252</td> <td> 0.000</td> <td>    1.490</td> <td>    1.597</td>\n",
       "</tr>\n",
       "<tr>\n",
       "  <th>ar.L2</th>   <td>   -0.9297</td> <td>    0.027</td> <td>  -35.054</td> <td> 0.000</td> <td>   -0.982</td> <td>   -0.878</td>\n",
       "</tr>\n",
       "<tr>\n",
       "  <th>ma.L1</th>   <td>   -1.5543</td> <td>    0.022</td> <td>  -70.401</td> <td> 0.000</td> <td>   -1.598</td> <td>   -1.511</td>\n",
       "</tr>\n",
       "<tr>\n",
       "  <th>ma.L2</th>   <td>    0.9614</td> <td>    0.021</td> <td>   45.109</td> <td> 0.000</td> <td>    0.920</td> <td>    1.003</td>\n",
       "</tr>\n",
       "<tr>\n",
       "  <th>ar.S.L7</th> <td>   -0.6366</td> <td>    0.229</td> <td>   -2.786</td> <td> 0.005</td> <td>   -1.085</td> <td>   -0.189</td>\n",
       "</tr>\n",
       "<tr>\n",
       "  <th>ma.S.L7</th> <td>    0.6874</td> <td>    0.217</td> <td>    3.164</td> <td> 0.002</td> <td>    0.262</td> <td>    1.113</td>\n",
       "</tr>\n",
       "<tr>\n",
       "  <th>sigma2</th>  <td>   18.4976</td> <td>    0.371</td> <td>   49.887</td> <td> 0.000</td> <td>   17.771</td> <td>   19.224</td>\n",
       "</tr>\n",
       "</table>\n",
       "<table class=\"simpletable\">\n",
       "<tr>\n",
       "  <th>Ljung-Box (L1) (Q):</th>     <td>0.51</td> <th>  Jarque-Bera (JB):  </th> <td>2079.15</td>\n",
       "</tr>\n",
       "<tr>\n",
       "  <th>Prob(Q):</th>                <td>0.48</td> <th>  Prob(JB):          </th>  <td>0.00</td>  \n",
       "</tr>\n",
       "<tr>\n",
       "  <th>Heteroskedasticity (H):</th> <td>3.30</td> <th>  Skew:              </th>  <td>0.02</td>  \n",
       "</tr>\n",
       "<tr>\n",
       "  <th>Prob(H) (two-sided):</th>    <td>0.00</td> <th>  Kurtosis:          </th>  <td>9.13</td>  \n",
       "</tr>\n",
       "</table><br/><br/>Warnings:<br/>[1] Covariance matrix calculated using the outer product of gradients (complex-step)."
      ],
      "text/plain": [
       "<class 'statsmodels.iolib.summary.Summary'>\n",
       "\"\"\"\n",
       "                                      SARIMAX Results                                      \n",
       "===========================================================================================\n",
       "Dep. Variable:                                   y   No. Observations:                 1328\n",
       "Model:             SARIMAX(2, 1, 2)x(1, 0, [1], 7)   Log Likelihood               -3818.942\n",
       "Date:                             Thu, 29 Dec 2022   AIC                           7651.883\n",
       "Time:                                     04:38:30   BIC                           7688.218\n",
       "Sample:                                          0   HQIC                          7665.502\n",
       "                                            - 1328                                         \n",
       "Covariance Type:                               opg                                         \n",
       "==============================================================================\n",
       "                 coef    std err          z      P>|z|      [0.025      0.975]\n",
       "------------------------------------------------------------------------------\n",
       "ar.L1          1.5433      0.027     56.252      0.000       1.490       1.597\n",
       "ar.L2         -0.9297      0.027    -35.054      0.000      -0.982      -0.878\n",
       "ma.L1         -1.5543      0.022    -70.401      0.000      -1.598      -1.511\n",
       "ma.L2          0.9614      0.021     45.109      0.000       0.920       1.003\n",
       "ar.S.L7       -0.6366      0.229     -2.786      0.005      -1.085      -0.189\n",
       "ma.S.L7        0.6874      0.217      3.164      0.002       0.262       1.113\n",
       "sigma2        18.4976      0.371     49.887      0.000      17.771      19.224\n",
       "===================================================================================\n",
       "Ljung-Box (L1) (Q):                   0.51   Jarque-Bera (JB):              2079.15\n",
       "Prob(Q):                              0.48   Prob(JB):                         0.00\n",
       "Heteroskedasticity (H):               3.30   Skew:                             0.02\n",
       "Prob(H) (two-sided):                  0.00   Kurtosis:                         9.13\n",
       "===================================================================================\n",
       "\n",
       "Warnings:\n",
       "[1] Covariance matrix calculated using the outer product of gradients (complex-step).\n",
       "\"\"\""
      ]
     },
     "execution_count": 87,
     "metadata": {},
     "output_type": "execute_result"
    }
   ],
   "source": [
    "auto_arima(train, m=7, seasonal=True).summary()"
   ]
  },
  {
   "cell_type": "code",
   "execution_count": 85,
   "id": "22bcb829",
   "metadata": {},
   "outputs": [],
   "source": [
    "from statsmodels.tsa.statespace.sarimax import SARIMAX"
   ]
  },
  {
   "cell_type": "code",
   "execution_count": 86,
   "id": "809d51aa",
   "metadata": {},
   "outputs": [
    {
     "ename": "TypeError",
     "evalue": "__init__() missing 1 required positional argument: 'endog'",
     "output_type": "error",
     "traceback": [
      "\u001b[1;31m---------------------------------------------------------------------------\u001b[0m",
      "\u001b[1;31mTypeError\u001b[0m                                 Traceback (most recent call last)",
      "\u001b[1;32m~\\AppData\\Local\\Temp\\ipykernel_14448\\129267667.py\u001b[0m in \u001b[0;36m<module>\u001b[1;34m\u001b[0m\n\u001b[1;32m----> 1\u001b[1;33m \u001b[0mmodel\u001b[0m \u001b[1;33m=\u001b[0m \u001b[0mSARIMAX\u001b[0m\u001b[1;33m(\u001b[0m\u001b[1;33m)\u001b[0m\u001b[1;33m\u001b[0m\u001b[1;33m\u001b[0m\u001b[0m\n\u001b[0m",
      "\u001b[1;31mTypeError\u001b[0m: __init__() missing 1 required positional argument: 'endog'"
     ]
    }
   ],
   "source": [
    "model = SARIMAX()"
   ]
  },
  {
   "cell_type": "code",
   "execution_count": 88,
   "id": "bbe78192",
   "metadata": {},
   "outputs": [
    {
     "data": {
      "text/plain": [
       "ARIMA(order=(2, 1, 2), scoring_args={}, seasonal_order=(1, 0, 1, 7),\n",
       "      suppress_warnings=True, with_intercept=False)"
      ]
     },
     "execution_count": 88,
     "metadata": {},
     "output_type": "execute_result"
    }
   ],
   "source": [
    "auto_arima(data[\"Close\"], m=7, seasonal=True)"
   ]
  },
  {
   "cell_type": "code",
   "execution_count": 89,
   "id": "850403a9",
   "metadata": {},
   "outputs": [],
   "source": [
    "from statsmodels.tsa.statespace.sarimax import SARIMAX"
   ]
  },
  {
   "cell_type": "code",
   "execution_count": 90,
   "id": "2478eade",
   "metadata": {},
   "outputs": [],
   "source": [
    "start=len(train)\n",
    "end=len(train)+len(test)-1"
   ]
  },
  {
   "cell_type": "code",
   "execution_count": 91,
   "id": "617b74a5",
   "metadata": {},
   "outputs": [
    {
     "name": "stderr",
     "output_type": "stream",
     "text": [
      "C:\\Users\\danthiee\\anaconda3\\lib\\site-packages\\statsmodels\\tsa\\base\\tsa_model.py:471: ValueWarning: A date index has been provided, but it has no associated frequency information and so will be ignored when e.g. forecasting.\n",
      "  self._init_dates(dates, freq)\n",
      "C:\\Users\\danthiee\\anaconda3\\lib\\site-packages\\statsmodels\\tsa\\base\\tsa_model.py:471: ValueWarning: A date index has been provided, but it has no associated frequency information and so will be ignored when e.g. forecasting.\n",
      "  self._init_dates(dates, freq)\n"
     ]
    }
   ],
   "source": [
    "model1 = SARIMAX(train,order=(2, 1, 2), seasonal_order=(1, 0, 1, 7))"
   ]
  },
  {
   "cell_type": "code",
   "execution_count": 92,
   "id": "13642d90",
   "metadata": {},
   "outputs": [],
   "source": [
    "results= model1.fit()"
   ]
  },
  {
   "cell_type": "code",
   "execution_count": 93,
   "id": "14b369b0",
   "metadata": {},
   "outputs": [
    {
     "ename": "SyntaxError",
     "evalue": "unexpected EOF while parsing (3394811777.py, line 1)",
     "output_type": "error",
     "traceback": [
      "\u001b[1;36m  File \u001b[1;32m\"C:\\Users\\danthiee\\AppData\\Local\\Temp\\ipykernel_14448\\3394811777.py\"\u001b[1;36m, line \u001b[1;32m1\u001b[0m\n\u001b[1;33m    prerdictions = results.predict(start=end, end=start, dynamic=False, typ='levels'\u001b[0m\n\u001b[1;37m                                                                                    ^\u001b[0m\n\u001b[1;31mSyntaxError\u001b[0m\u001b[1;31m:\u001b[0m unexpected EOF while parsing\n"
     ]
    }
   ],
   "source": [
    "prerdictions = results.predict(start=end, end=start, dynamic=False, typ='levels'"
   ]
  },
  {
   "cell_type": "code",
   "execution_count": 94,
   "id": "08896d2f",
   "metadata": {},
   "outputs": [
    {
     "data": {
      "text/plain": [
       "1327    506.332682\n",
       "1328    506.060761\n",
       "Name: predicted_mean, dtype: float64"
      ]
     },
     "execution_count": 94,
     "metadata": {},
     "output_type": "execute_result"
    }
   ],
   "source": [
    "prerdictions"
   ]
  },
  {
   "cell_type": "code",
   "execution_count": 95,
   "id": "e347bb5b",
   "metadata": {},
   "outputs": [
    {
     "data": {
      "text/plain": [
       "2"
      ]
     },
     "execution_count": 95,
     "metadata": {},
     "output_type": "execute_result"
    }
   ],
   "source": [
    "len(prerdictions)"
   ]
  },
  {
   "cell_type": "code",
   "execution_count": 96,
   "id": "64af0739",
   "metadata": {},
   "outputs": [
    {
     "name": "stderr",
     "output_type": "stream",
     "text": [
      "C:\\Users\\danthiee\\anaconda3\\lib\\site-packages\\statsmodels\\tsa\\base\\tsa_model.py:834: ValueWarning: No supported index is available. Prediction results will be given with an integer index beginning at `start`.\n",
      "  return get_prediction_index(\n"
     ]
    }
   ],
   "source": [
    "x4 =results.forecast(10)"
   ]
  },
  {
   "cell_type": "code",
   "execution_count": 97,
   "id": "b9ed208b",
   "metadata": {},
   "outputs": [
    {
     "data": {
      "text/plain": [
       "1328    506.279973\n",
       "1329    506.678533\n",
       "1330    506.282522\n",
       "1331    505.266845\n",
       "1332    505.245588\n",
       "1333    503.716927\n",
       "1334    502.877120\n",
       "1335    503.561386\n",
       "1336    504.105504\n",
       "1337    504.787118\n",
       "Name: predicted_mean, dtype: float64"
      ]
     },
     "execution_count": 97,
     "metadata": {},
     "output_type": "execute_result"
    }
   ],
   "source": [
    "x4"
   ]
  },
  {
   "cell_type": "code",
   "execution_count": 98,
   "id": "9ffe8f05",
   "metadata": {},
   "outputs": [
    {
     "data": {
      "text/plain": [
       "504.78711818118853"
      ]
     },
     "execution_count": 98,
     "metadata": {},
     "output_type": "execute_result"
    }
   ],
   "source": [
    "x4.iloc[-1]"
   ]
  },
  {
   "cell_type": "code",
   "execution_count": 99,
   "id": "300c3680",
   "metadata": {},
   "outputs": [
    {
     "data": {
      "text/plain": [
       "<AxesSubplot:>"
      ]
     },
     "execution_count": 99,
     "metadata": {},
     "output_type": "execute_result"
    },
    {
     "data": {
      "image/png": "[encoded data removed]",
      "text/plain": [
       "<Figure size 640x480 with 1 Axes>"
      ]
     },
     "metadata": {},
     "output_type": "display_data"
    }
   ],
   "source": [
    "x4.plot()"
   ]
  },
  {
   "cell_type": "code",
   "execution_count": null,
   "id": "7468b350",
   "metadata": {},
   "outputs": [],
   "source": []
  }
 ],
 "metadata": {
  "kernelspec": {
   "display_name": "Python 3 (ipykernel)",
   "language": "python",
   "name": "python3"
  },
  "language_info": {
   "codemirror_mode": {
    "name": "ipython",
    "version": 3
   },
   "file_extension": ".py",
   "mimetype": "text/x-python",
   "name": "python",
   "nbconvert_exporter": "python",
   "pygments_lexer": "ipython3",
   "version": "3.9.13"
  }
 },
 "nbformat": 4,
 "nbformat_minor": 5
}
