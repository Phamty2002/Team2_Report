{
  "nbformat": 4,
  "nbformat_minor": 0,
  "metadata": {
    "colab": {
      "provenance": []
    },
    "kernelspec": {
      "name": "python3",
      "display_name": "Python 3"
    },
    "language_info": {
      "name": "python"
    }
  },
  "cells": [
    {
      "cell_type": "code",
      "execution_count": null,
      "metadata": {
        "id": "-JH7aljakNvc"
      },
      "outputs": [],
      "source": [
        "import numpy as np\n",
        "import pandas as pd\n",
        "import statsmodels.api as sm\n",
        "import seaborn as sns\n",
        "from matplotlib import pyplot as plt\n",
        "from matplotlib import style\n",
        "from sklearn.linear_model import LinearRegression\n",
        "import math"
      ]
    },
    {
      "cell_type": "code",
      "source": [
        "df = pd.read_csv(\"DATA.csv\")\n",
        "df"
      ],
      "metadata": {
        "colab": {
          "base_uri": "https://localhost:8080/",
          "height": 424
        },
        "id": "xmy2Jf0Ikdp6",
        "outputId": "06fa6bb4-3028-49f7-e057-724ce5125180"
      },
      "execution_count": null,
      "outputs": [
        {
          "output_type": "execute_result",
          "data": {
            "text/plain": [
              "           Date        Open        High         Low       Close   Adj Close  \\\n",
              "0    11/30/2021  335.320007  337.779999  328.989990  330.589996  327.521057   \n",
              "1     12/1/2021  335.130005  339.279999  329.390015  330.079987  327.015808   \n",
              "2     12/2/2021  330.299988  333.489990  327.799988  329.489990  326.431274   \n",
              "3     12/3/2021  331.989990  332.700012  318.029999  323.010010  320.011444   \n",
              "4     12/6/2021  323.950012  327.450012  319.230011  326.190002  323.161926   \n",
              "..          ...         ...         ...         ...         ...         ...   \n",
              "247  11/22/2022  243.589996  245.309998  240.710007  245.029999  245.029999   \n",
              "248  11/23/2022  245.110001  248.279999  244.270004  247.580002  247.580002   \n",
              "249  11/25/2022  247.309998  248.699997  246.729996  247.490005  247.490005   \n",
              "250  11/28/2022  246.080002  246.649994  240.800003  241.759995  241.759995   \n",
              "251  11/29/2022  241.399994  242.789993  238.210007  240.330002  240.330002   \n",
              "\n",
              "       Volume  \n",
              "0    42885600  \n",
              "1    33337600  \n",
              "2    30766000  \n",
              "3    41779300  \n",
              "4    30032600  \n",
              "..        ...  \n",
              "247  19665700  \n",
              "248  19508500  \n",
              "249   9200800  \n",
              "250  24778200  \n",
              "251  17956300  \n",
              "\n",
              "[252 rows x 7 columns]"
            ],
            "text/html": [
              "\n",
              "  <div id=\"df-4ab6a83b-f939-417e-b8d8-54467dc2c682\">\n",
              "    <div class=\"colab-df-container\">\n",
              "      <div>\n",
              "<style scoped>\n",
              "    .dataframe tbody tr th:only-of-type {\n",
              "        vertical-align: middle;\n",
              "    }\n",
              "\n",
              "    .dataframe tbody tr th {\n",
              "        vertical-align: top;\n",
              "    }\n",
              "\n",
              "    .dataframe thead th {\n",
              "        text-align: right;\n",
              "    }\n",
              "</style>\n",
              "<table border=\"1\" class=\"dataframe\">\n",
              "  <thead>\n",
              "    <tr style=\"text-align: right;\">\n",
              "      <th></th>\n",
              "      <th>Date</th>\n",
              "      <th>Open</th>\n",
              "      <th>High</th>\n",
              "      <th>Low</th>\n",
              "      <th>Close</th>\n",
              "      <th>Adj Close</th>\n",
              "      <th>Volume</th>\n",
              "    </tr>\n",
              "  </thead>\n",
              "  <tbody>\n",
              "    <tr>\n",
              "      <th>0</th>\n",
              "      <td>11/30/2021</td>\n",
              "      <td>335.320007</td>\n",
              "      <td>337.779999</td>\n",
              "      <td>328.989990</td>\n",
              "      <td>330.589996</td>\n",
              "      <td>327.521057</td>\n",
              "      <td>42885600</td>\n",
              "    </tr>\n",
              "    <tr>\n",
              "      <th>1</th>\n",
              "      <td>12/1/2021</td>\n",
              "      <td>335.130005</td>\n",
              "      <td>339.279999</td>\n",
              "      <td>329.390015</td>\n",
              "      <td>330.079987</td>\n",
              "      <td>327.015808</td>\n",
              "      <td>33337600</td>\n",
              "    </tr>\n",
              "    <tr>\n",
              "      <th>2</th>\n",
              "      <td>12/2/2021</td>\n",
              "      <td>330.299988</td>\n",
              "      <td>333.489990</td>\n",
              "      <td>327.799988</td>\n",
              "      <td>329.489990</td>\n",
              "      <td>326.431274</td>\n",
              "      <td>30766000</td>\n",
              "    </tr>\n",
              "    <tr>\n",
              "      <th>3</th>\n",
              "      <td>12/3/2021</td>\n",
              "      <td>331.989990</td>\n",
              "      <td>332.700012</td>\n",
              "      <td>318.029999</td>\n",
              "      <td>323.010010</td>\n",
              "      <td>320.011444</td>\n",
              "      <td>41779300</td>\n",
              "    </tr>\n",
              "    <tr>\n",
              "      <th>4</th>\n",
              "      <td>12/6/2021</td>\n",
              "      <td>323.950012</td>\n",
              "      <td>327.450012</td>\n",
              "      <td>319.230011</td>\n",
              "      <td>326.190002</td>\n",
              "      <td>323.161926</td>\n",
              "      <td>30032600</td>\n",
              "    </tr>\n",
              "    <tr>\n",
              "      <th>...</th>\n",
              "      <td>...</td>\n",
              "      <td>...</td>\n",
              "      <td>...</td>\n",
              "      <td>...</td>\n",
              "      <td>...</td>\n",
              "      <td>...</td>\n",
              "      <td>...</td>\n",
              "    </tr>\n",
              "    <tr>\n",
              "      <th>247</th>\n",
              "      <td>11/22/2022</td>\n",
              "      <td>243.589996</td>\n",
              "      <td>245.309998</td>\n",
              "      <td>240.710007</td>\n",
              "      <td>245.029999</td>\n",
              "      <td>245.029999</td>\n",
              "      <td>19665700</td>\n",
              "    </tr>\n",
              "    <tr>\n",
              "      <th>248</th>\n",
              "      <td>11/23/2022</td>\n",
              "      <td>245.110001</td>\n",
              "      <td>248.279999</td>\n",
              "      <td>244.270004</td>\n",
              "      <td>247.580002</td>\n",
              "      <td>247.580002</td>\n",
              "      <td>19508500</td>\n",
              "    </tr>\n",
              "    <tr>\n",
              "      <th>249</th>\n",
              "      <td>11/25/2022</td>\n",
              "      <td>247.309998</td>\n",
              "      <td>248.699997</td>\n",
              "      <td>246.729996</td>\n",
              "      <td>247.490005</td>\n",
              "      <td>247.490005</td>\n",
              "      <td>9200800</td>\n",
              "    </tr>\n",
              "    <tr>\n",
              "      <th>250</th>\n",
              "      <td>11/28/2022</td>\n",
              "      <td>246.080002</td>\n",
              "      <td>246.649994</td>\n",
              "      <td>240.800003</td>\n",
              "      <td>241.759995</td>\n",
              "      <td>241.759995</td>\n",
              "      <td>24778200</td>\n",
              "    </tr>\n",
              "    <tr>\n",
              "      <th>251</th>\n",
              "      <td>11/29/2022</td>\n",
              "      <td>241.399994</td>\n",
              "      <td>242.789993</td>\n",
              "      <td>238.210007</td>\n",
              "      <td>240.330002</td>\n",
              "      <td>240.330002</td>\n",
              "      <td>17956300</td>\n",
              "    </tr>\n",
              "  </tbody>\n",
              "</table>\n",
              "<p>252 rows × 7 columns</p>\n",
              "</div>\n",
              "      <button class=\"colab-df-convert\" onclick=\"convertToInteractive('df-4ab6a83b-f939-417e-b8d8-54467dc2c682')\"\n",
              "              title=\"Convert this dataframe to an interactive table.\"\n",
              "              style=\"display:none;\">\n",
              "        \n",
              "  <svg xmlns=\"http://www.w3.org/2000/svg\" height=\"24px\"viewBox=\"0 0 24 24\"\n",
              "       width=\"24px\">\n",
              "    <path d=\"M0 0h24v24H0V0z\" fill=\"none\"/>\n",
              "    <path d=\"M18.56 5.44l.94 2.06.94-2.06 2.06-.94-2.06-.94-.94-2.06-.94 2.06-2.06.94zm-11 1L8.5 8.5l.94-2.06 2.06-.94-2.06-.94L8.5 2.5l-.94 2.06-2.06.94zm10 10l.94 2.06.94-2.06 2.06-.94-2.06-.94-.94-2.06-.94 2.06-2.06.94z\"/><path d=\"M17.41 7.96l-1.37-1.37c-.4-.4-.92-.59-1.43-.59-.52 0-1.04.2-1.43.59L10.3 9.45l-7.72 7.72c-.78.78-.78 2.05 0 2.83L4 21.41c.39.39.9.59 1.41.59.51 0 1.02-.2 1.41-.59l7.78-7.78 2.81-2.81c.8-.78.8-2.07 0-2.86zM5.41 20L4 18.59l7.72-7.72 1.47 1.35L5.41 20z\"/>\n",
              "  </svg>\n",
              "      </button>\n",
              "      \n",
              "  <style>\n",
              "    .colab-df-container {\n",
              "      display:flex;\n",
              "      flex-wrap:wrap;\n",
              "      gap: 12px;\n",
              "    }\n",
              "\n",
              "    .colab-df-convert {\n",
              "      background-color: #E8F0FE;\n",
              "      border: none;\n",
              "      border-radius: 50%;\n",
              "      cursor: pointer;\n",
              "      display: none;\n",
              "      fill: #1967D2;\n",
              "      height: 32px;\n",
              "      padding: 0 0 0 0;\n",
              "      width: 32px;\n",
              "    }\n",
              "\n",
              "    .colab-df-convert:hover {\n",
              "      background-color: #E2EBFA;\n",
              "      box-shadow: 0px 1px 2px rgba(60, 64, 67, 0.3), 0px 1px 3px 1px rgba(60, 64, 67, 0.15);\n",
              "      fill: #174EA6;\n",
              "    }\n",
              "\n",
              "    [theme=dark] .colab-df-convert {\n",
              "      background-color: #3B4455;\n",
              "      fill: #D2E3FC;\n",
              "    }\n",
              "\n",
              "    [theme=dark] .colab-df-convert:hover {\n",
              "      background-color: #434B5C;\n",
              "      box-shadow: 0px 1px 3px 1px rgba(0, 0, 0, 0.15);\n",
              "      filter: drop-shadow(0px 1px 2px rgba(0, 0, 0, 0.3));\n",
              "      fill: #FFFFFF;\n",
              "    }\n",
              "  </style>\n",
              "\n",
              "      <script>\n",
              "        const buttonEl =\n",
              "          document.querySelector('#df-4ab6a83b-f939-417e-b8d8-54467dc2c682 button.colab-df-convert');\n",
              "        buttonEl.style.display =\n",
              "          google.colab.kernel.accessAllowed ? 'block' : 'none';\n",
              "\n",
              "        async function convertToInteractive(key) {\n",
              "          const element = document.querySelector('#df-4ab6a83b-f939-417e-b8d8-54467dc2c682');\n",
              "          const dataTable =\n",
              "            await google.colab.kernel.invokeFunction('convertToInteractive',\n",
              "                                                     [key], {});\n",
              "          if (!dataTable) return;\n",
              "\n",
              "          const docLinkHtml = 'Like what you see? Visit the ' +\n",
              "            '<a target=\"_blank\" href=https://colab.research.google.com/notebooks/data_table.ipynb>data table notebook</a>'\n",
              "            + ' to learn more about interactive tables.';\n",
              "          element.innerHTML = '';\n",
              "          dataTable['output_type'] = 'display_data';\n",
              "          await google.colab.output.renderOutput(dataTable, element);\n",
              "          const docLink = document.createElement('div');\n",
              "          docLink.innerHTML = docLinkHtml;\n",
              "          element.appendChild(docLink);\n",
              "        }\n",
              "      </script>\n",
              "    </div>\n",
              "  </div>\n",
              "  "
            ]
          },
          "metadata": {},
          "execution_count": 2
        }
      ]
    },
    {
      "cell_type": "code",
      "source": [
        "df.columns"
      ],
      "metadata": {
        "colab": {
          "base_uri": "https://localhost:8080/"
        },
        "id": "7A2l2G0RkhTM",
        "outputId": "4f832ed1-9c78-4605-ef25-0f5f7609322e"
      },
      "execution_count": null,
      "outputs": [
        {
          "output_type": "execute_result",
          "data": {
            "text/plain": [
              "Index(['Date', 'Open', 'High', 'Low', 'Close', 'Adj Close', 'Volume'], dtype='object')"
            ]
          },
          "metadata": {},
          "execution_count": 3
        }
      ]
    },
    {
      "cell_type": "code",
      "source": [
        "model = LinearRegression()\n",
        "model.fit(df[['Open', 'High', 'Low', 'Close', 'Adj Close']], df['Volume'])"
      ],
      "metadata": {
        "colab": {
          "base_uri": "https://localhost:8080/"
        },
        "id": "HgFrejqvkj7W",
        "outputId": "1c4e289d-aab0-451d-ab13-3690b98bc8a3"
      },
      "execution_count": null,
      "outputs": [
        {
          "output_type": "execute_result",
          "data": {
            "text/plain": [
              "LinearRegression()"
            ]
          },
          "metadata": {},
          "execution_count": 4
        }
      ]
    },
    {
      "cell_type": "code",
      "source": [
        "w = model.coef_\n",
        "b = model.intercept_\n",
        "w, b"
      ],
      "metadata": {
        "colab": {
          "base_uri": "https://localhost:8080/"
        },
        "id": "4V02m5hqkld1",
        "outputId": "adaa0d4d-726f-4c92-9fa1-cd6d20ceafbe"
      },
      "execution_count": null,
      "outputs": [
        {
          "output_type": "execute_result",
          "data": {
            "text/plain": [
              "(array([  -124759.62879154,   1817219.51972755,  -1767107.54442664,\n",
              "         10203971.68015406, -10396174.42468868]), 74883012.20109853)"
            ]
          },
          "metadata": {},
          "execution_count": 5
        }
      ]
    },
    {
      "cell_type": "code",
      "source": [
        "y = df['Volume']\n",
        "x = df[['Open', 'High', 'Low', 'Close', 'Adj Close']]\n",
        "x = sm.add_constant(x)\n",
        "model = sm.OLS(y, x).fit()\n",
        "print(model.summary())"
      ],
      "metadata": {
        "colab": {
          "base_uri": "https://localhost:8080/"
        },
        "id": "Appei9q3knfO",
        "outputId": "4bbdb2a1-7b6c-4d3d-c278-5c1c91ad3bf7"
      },
      "execution_count": null,
      "outputs": [
        {
          "output_type": "stream",
          "name": "stdout",
          "text": [
            "                            OLS Regression Results                            \n",
            "==============================================================================\n",
            "Dep. Variable:                 Volume   R-squared:                       0.529\n",
            "Model:                            OLS   Adj. R-squared:                  0.519\n",
            "Method:                 Least Squares   F-statistic:                     55.23\n",
            "Date:                Fri, 09 Dec 2022   Prob (F-statistic):           2.53e-38\n",
            "Time:                        11:08:33   Log-Likelihood:                -4347.8\n",
            "No. Observations:                 252   AIC:                             8708.\n",
            "Df Residuals:                     246   BIC:                             8729.\n",
            "Df Model:                           5                                         \n",
            "Covariance Type:            nonrobust                                         \n",
            "==============================================================================\n",
            "                 coef    std err          t      P>|t|      [0.025      0.975]\n",
            "------------------------------------------------------------------------------\n",
            "const       7.488e+07   9.95e+06      7.527      0.000    5.53e+07    9.45e+07\n",
            "Open       -1.248e+05   2.61e+05     -0.478      0.633   -6.39e+05    3.89e+05\n",
            "High        1.817e+06   3.12e+05      5.827      0.000     1.2e+06    2.43e+06\n",
            "Low        -1.767e+06    2.6e+05     -6.787      0.000   -2.28e+06   -1.25e+06\n",
            "Close        1.02e+07    1.5e+06      6.814      0.000    7.25e+06    1.32e+07\n",
            "Adj Close   -1.04e+07   1.49e+06     -6.978      0.000   -1.33e+07   -7.46e+06\n",
            "==============================================================================\n",
            "Omnibus:                      137.642   Durbin-Watson:                   1.076\n",
            "Prob(Omnibus):                  0.000   Jarque-Bera (JB):             1052.932\n",
            "Skew:                           2.058   Prob(JB):                    2.28e-229\n",
            "Kurtosis:                      12.129   Cond. No.                     1.31e+04\n",
            "==============================================================================\n",
            "\n",
            "Notes:\n",
            "[1] Standard Errors assume that the covariance matrix of the errors is correctly specified.\n",
            "[2] The condition number is large, 1.31e+04. This might indicate that there are\n",
            "strong multicollinearity or other numerical problems.\n"
          ]
        },
        {
          "output_type": "stream",
          "name": "stderr",
          "text": [
            "/usr/local/lib/python3.8/dist-packages/statsmodels/tsa/tsatools.py:142: FutureWarning: In a future version of pandas all arguments of concat except for the argument 'objs' will be keyword-only\n",
            "  x = pd.concat(x[::order], 1)\n"
          ]
        }
      ]
    },
    {
      "cell_type": "code",
      "source": [],
      "metadata": {
        "id": "eiVBq2xekpif"
      },
      "execution_count": null,
      "outputs": []
    }
  ]
}