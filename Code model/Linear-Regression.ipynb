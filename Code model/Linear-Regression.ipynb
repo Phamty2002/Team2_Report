{
  "nbformat": 4,
  "nbformat_minor": 0,
  "metadata": {
    "colab": {
      "provenance": []
    },
    "kernelspec": {
      "name": "python3",
      "display_name": "Python 3"
    },
    "language_info": {
      "name": "python"
    }
  },
  "cells": [
    {
      "cell_type": "code",
      "execution_count": null,
      "metadata": {
        "id": "6tLDxJ4Li0Zr"
      },
      "outputs": [],
      "source": [
        "import statsmodels.api as sm\n",
        "\n",
        "import numpy as np\n",
        "import pandas as pd\n",
        "import seaborn as sns\n",
        "import matplotlib.pyplot as plt\n",
        "from matplotlib import style\n",
        "from sklearn.linear_model import LinearRegression\n"
      ]
    },
    {
      "cell_type": "code",
      "source": [
        "df = pd.read_csv(\"DATA.csv\")\n",
        "df"
      ],
      "metadata": {
        "colab": {
          "base_uri": "https://localhost:8080/",
          "height": 424
        },
        "id": "qFqY42Eui-_5",
        "outputId": "a6d704a2-bf25-4826-9475-68b9cd186859"
      },
      "execution_count": null,
      "outputs": [
        {
          "output_type": "execute_result",
          "data": {
            "text/plain": [
              "           Date        Open        High         Low       Close   Adj Close  \\\n",
              "0    11/30/2021  335.320007  337.779999  328.989990  330.589996  327.521057   \n",
              "1     12/1/2021  335.130005  339.279999  329.390015  330.079987  327.015808   \n",
              "2     12/2/2021  330.299988  333.489990  327.799988  329.489990  326.431274   \n",
              "3     12/3/2021  331.989990  332.700012  318.029999  323.010010  320.011444   \n",
              "4     12/6/2021  323.950012  327.450012  319.230011  326.190002  323.161926   \n",
              "..          ...         ...         ...         ...         ...         ...   \n",
              "247  11/22/2022  243.589996  245.309998  240.710007  245.029999  245.029999   \n",
              "248  11/23/2022  245.110001  248.279999  244.270004  247.580002  247.580002   \n",
              "249  11/25/2022  247.309998  248.699997  246.729996  247.490005  247.490005   \n",
              "250  11/28/2022  246.080002  246.649994  240.800003  241.759995  241.759995   \n",
              "251  11/29/2022  241.399994  242.789993  238.210007  240.330002  240.330002   \n",
              "\n",
              "       Volume  \n",
              "0    42885600  \n",
              "1    33337600  \n",
              "2    30766000  \n",
              "3    41779300  \n",
              "4    30032600  \n",
              "..        ...  \n",
              "247  19665700  \n",
              "248  19508500  \n",
              "249   9200800  \n",
              "250  24778200  \n",
              "251  17956300  \n",
              "\n",
              "[252 rows x 7 columns]"
            ],
            "text/html": [
              "\n",
              "  <div id=\"df-86d67232-2bad-4325-bedc-943de90ff10c\">\n",
              "    <div class=\"colab-df-container\">\n",
              "      <div>\n",
              "<style scoped>\n",
              "    .dataframe tbody tr th:only-of-type {\n",
              "        vertical-align: middle;\n",
              "    }\n",
              "\n",
              "    .dataframe tbody tr th {\n",
              "        vertical-align: top;\n",
              "    }\n",
              "\n",
              "    .dataframe thead th {\n",
              "        text-align: right;\n",
              "    }\n",
              "</style>\n",
              "<table border=\"1\" class=\"dataframe\">\n",
              "  <thead>\n",
              "    <tr style=\"text-align: right;\">\n",
              "      <th></th>\n",
              "      <th>Date</th>\n",
              "      <th>Open</th>\n",
              "      <th>High</th>\n",
              "      <th>Low</th>\n",
              "      <th>Close</th>\n",
              "      <th>Adj Close</th>\n",
              "      <th>Volume</th>\n",
              "    </tr>\n",
              "  </thead>\n",
              "  <tbody>\n",
              "    <tr>\n",
              "      <th>0</th>\n",
              "      <td>11/30/2021</td>\n",
              "      <td>335.320007</td>\n",
              "      <td>337.779999</td>\n",
              "      <td>328.989990</td>\n",
              "      <td>330.589996</td>\n",
              "      <td>327.521057</td>\n",
              "      <td>42885600</td>\n",
              "    </tr>\n",
              "    <tr>\n",
              "      <th>1</th>\n",
              "      <td>12/1/2021</td>\n",
              "      <td>335.130005</td>\n",
              "      <td>339.279999</td>\n",
              "      <td>329.390015</td>\n",
              "      <td>330.079987</td>\n",
              "      <td>327.015808</td>\n",
              "      <td>33337600</td>\n",
              "    </tr>\n",
              "    <tr>\n",
              "      <th>2</th>\n",
              "      <td>12/2/2021</td>\n",
              "      <td>330.299988</td>\n",
              "      <td>333.489990</td>\n",
              "      <td>327.799988</td>\n",
              "      <td>329.489990</td>\n",
              "      <td>326.431274</td>\n",
              "      <td>30766000</td>\n",
              "    </tr>\n",
              "    <tr>\n",
              "      <th>3</th>\n",
              "      <td>12/3/2021</td>\n",
              "      <td>331.989990</td>\n",
              "      <td>332.700012</td>\n",
              "      <td>318.029999</td>\n",
              "      <td>323.010010</td>\n",
              "      <td>320.011444</td>\n",
              "      <td>41779300</td>\n",
              "    </tr>\n",
              "    <tr>\n",
              "      <th>4</th>\n",
              "      <td>12/6/2021</td>\n",
              "      <td>323.950012</td>\n",
              "      <td>327.450012</td>\n",
              "      <td>319.230011</td>\n",
              "      <td>326.190002</td>\n",
              "      <td>323.161926</td>\n",
              "      <td>30032600</td>\n",
              "    </tr>\n",
              "    <tr>\n",
              "      <th>...</th>\n",
              "      <td>...</td>\n",
              "      <td>...</td>\n",
              "      <td>...</td>\n",
              "      <td>...</td>\n",
              "      <td>...</td>\n",
              "      <td>...</td>\n",
              "      <td>...</td>\n",
              "    </tr>\n",
              "    <tr>\n",
              "      <th>247</th>\n",
              "      <td>11/22/2022</td>\n",
              "      <td>243.589996</td>\n",
              "      <td>245.309998</td>\n",
              "      <td>240.710007</td>\n",
              "      <td>245.029999</td>\n",
              "      <td>245.029999</td>\n",
              "      <td>19665700</td>\n",
              "    </tr>\n",
              "    <tr>\n",
              "      <th>248</th>\n",
              "      <td>11/23/2022</td>\n",
              "      <td>245.110001</td>\n",
              "      <td>248.279999</td>\n",
              "      <td>244.270004</td>\n",
              "      <td>247.580002</td>\n",
              "      <td>247.580002</td>\n",
              "      <td>19508500</td>\n",
              "    </tr>\n",
              "    <tr>\n",
              "      <th>249</th>\n",
              "      <td>11/25/2022</td>\n",
              "      <td>247.309998</td>\n",
              "      <td>248.699997</td>\n",
              "      <td>246.729996</td>\n",
              "      <td>247.490005</td>\n",
              "      <td>247.490005</td>\n",
              "      <td>9200800</td>\n",
              "    </tr>\n",
              "    <tr>\n",
              "      <th>250</th>\n",
              "      <td>11/28/2022</td>\n",
              "      <td>246.080002</td>\n",
              "      <td>246.649994</td>\n",
              "      <td>240.800003</td>\n",
              "      <td>241.759995</td>\n",
              "      <td>241.759995</td>\n",
              "      <td>24778200</td>\n",
              "    </tr>\n",
              "    <tr>\n",
              "      <th>251</th>\n",
              "      <td>11/29/2022</td>\n",
              "      <td>241.399994</td>\n",
              "      <td>242.789993</td>\n",
              "      <td>238.210007</td>\n",
              "      <td>240.330002</td>\n",
              "      <td>240.330002</td>\n",
              "      <td>17956300</td>\n",
              "    </tr>\n",
              "  </tbody>\n",
              "</table>\n",
              "<p>252 rows × 7 columns</p>\n",
              "</div>\n",
              "      <button class=\"colab-df-convert\" onclick=\"convertToInteractive('df-86d67232-2bad-4325-bedc-943de90ff10c')\"\n",
              "              title=\"Convert this dataframe to an interactive table.\"\n",
              "              style=\"display:none;\">\n",
              "        \n",
              "  <svg xmlns=\"http://www.w3.org/2000/svg\" height=\"24px\"viewBox=\"0 0 24 24\"\n",
              "       width=\"24px\">\n",
              "    <path d=\"M0 0h24v24H0V0z\" fill=\"none\"/>\n",
              "    <path d=\"M18.56 5.44l.94 2.06.94-2.06 2.06-.94-2.06-.94-.94-2.06-.94 2.06-2.06.94zm-11 1L8.5 8.5l.94-2.06 2.06-.94-2.06-.94L8.5 2.5l-.94 2.06-2.06.94zm10 10l.94 2.06.94-2.06 2.06-.94-2.06-.94-.94-2.06-.94 2.06-2.06.94z\"/><path d=\"M17.41 7.96l-1.37-1.37c-.4-.4-.92-.59-1.43-.59-.52 0-1.04.2-1.43.59L10.3 9.45l-7.72 7.72c-.78.78-.78 2.05 0 2.83L4 21.41c.39.39.9.59 1.41.59.51 0 1.02-.2 1.41-.59l7.78-7.78 2.81-2.81c.8-.78.8-2.07 0-2.86zM5.41 20L4 18.59l7.72-7.72 1.47 1.35L5.41 20z\"/>\n",
              "  </svg>\n",
              "      </button>\n",
              "      \n",
              "  <style>\n",
              "    .colab-df-container {\n",
              "      display:flex;\n",
              "      flex-wrap:wrap;\n",
              "      gap: 12px;\n",
              "    }\n",
              "\n",
              "    .colab-df-convert {\n",
              "      background-color: #E8F0FE;\n",
              "      border: none;\n",
              "      border-radius: 50%;\n",
              "      cursor: pointer;\n",
              "      display: none;\n",
              "      fill: #1967D2;\n",
              "      height: 32px;\n",
              "      padding: 0 0 0 0;\n",
              "      width: 32px;\n",
              "    }\n",
              "\n",
              "    .colab-df-convert:hover {\n",
              "      background-color: #E2EBFA;\n",
              "      box-shadow: 0px 1px 2px rgba(60, 64, 67, 0.3), 0px 1px 3px 1px rgba(60, 64, 67, 0.15);\n",
              "      fill: #174EA6;\n",
              "    }\n",
              "\n",
              "    [theme=dark] .colab-df-convert {\n",
              "      background-color: #3B4455;\n",
              "      fill: #D2E3FC;\n",
              "    }\n",
              "\n",
              "    [theme=dark] .colab-df-convert:hover {\n",
              "      background-color: #434B5C;\n",
              "      box-shadow: 0px 1px 3px 1px rgba(0, 0, 0, 0.15);\n",
              "      filter: drop-shadow(0px 1px 2px rgba(0, 0, 0, 0.3));\n",
              "      fill: #FFFFFF;\n",
              "    }\n",
              "  </style>\n",
              "\n",
              "      <script>\n",
              "        const buttonEl =\n",
              "          document.querySelector('#df-86d67232-2bad-4325-bedc-943de90ff10c button.colab-df-convert');\n",
              "        buttonEl.style.display =\n",
              "          google.colab.kernel.accessAllowed ? 'block' : 'none';\n",
              "\n",
              "        async function convertToInteractive(key) {\n",
              "          const element = document.querySelector('#df-86d67232-2bad-4325-bedc-943de90ff10c');\n",
              "          const dataTable =\n",
              "            await google.colab.kernel.invokeFunction('convertToInteractive',\n",
              "                                                     [key], {});\n",
              "          if (!dataTable) return;\n",
              "\n",
              "          const docLinkHtml = 'Like what you see? Visit the ' +\n",
              "            '<a target=\"_blank\" href=https://colab.research.google.com/notebooks/data_table.ipynb>data table notebook</a>'\n",
              "            + ' to learn more about interactive tables.';\n",
              "          element.innerHTML = '';\n",
              "          dataTable['output_type'] = 'display_data';\n",
              "          await google.colab.output.renderOutput(dataTable, element);\n",
              "          const docLink = document.createElement('div');\n",
              "          docLink.innerHTML = docLinkHtml;\n",
              "          element.appendChild(docLink);\n",
              "        }\n",
              "      </script>\n",
              "    </div>\n",
              "  </div>\n",
              "  "
            ]
          },
          "metadata": {},
          "execution_count": 2
        }
      ]
    },
    {
      "cell_type": "code",
      "source": [
        "y = df['Volume']\n",
        "x = df[['High','Low']]"
      ],
      "metadata": {
        "id": "K6li0ny-jCPd"
      },
      "execution_count": null,
      "outputs": []
    },
    {
      "cell_type": "code",
      "source": [
        "model = LinearRegression()\n",
        "model.fit(x,y)"
      ],
      "metadata": {
        "colab": {
          "base_uri": "https://localhost:8080/"
        },
        "id": "WPvz_xQjjFhf",
        "outputId": "78821769-6448-4dc5-c8c5-7e501c97f493"
      },
      "execution_count": null,
      "outputs": [
        {
          "output_type": "execute_result",
          "data": {
            "text/plain": [
              "LinearRegression()"
            ]
          },
          "metadata": {},
          "execution_count": 4
        }
      ]
    },
    {
      "cell_type": "code",
      "source": [
        "model.intercept_"
      ],
      "metadata": {
        "colab": {
          "base_uri": "https://localhost:8080/"
        },
        "id": "8KYJZcsQjHy3",
        "outputId": "75fac792-21f3-4179-9298-be0d61e52103"
      },
      "execution_count": null,
      "outputs": [
        {
          "output_type": "execute_result",
          "data": {
            "text/plain": [
              "13306198.944704853"
            ]
          },
          "metadata": {},
          "execution_count": 5
        }
      ]
    },
    {
      "cell_type": "code",
      "source": [
        "model.coef_"
      ],
      "metadata": {
        "colab": {
          "base_uri": "https://localhost:8080/"
        },
        "id": "h7yPH-pMjJEt",
        "outputId": "1ce5cb16-a4f0-482c-d24a-9bebccf56ba2"
      },
      "execution_count": null,
      "outputs": [
        {
          "output_type": "execute_result",
          "data": {
            "text/plain": [
              "array([ 2351670.60355375, -2348768.48272206])"
            ]
          },
          "metadata": {},
          "execution_count": 6
        }
      ]
    },
    {
      "cell_type": "code",
      "source": [
        "model.score(x, y)"
      ],
      "metadata": {
        "colab": {
          "base_uri": "https://localhost:8080/"
        },
        "id": "8h1tCcTljK6t",
        "outputId": "faec0869-aa15-4f16-abc4-7049712f58ea"
      },
      "execution_count": null,
      "outputs": [
        {
          "output_type": "execute_result",
          "data": {
            "text/plain": [
              "0.43496254438625426"
            ]
          },
          "metadata": {},
          "execution_count": 7
        }
      ]
    },
    {
      "cell_type": "code",
      "source": [
        "x = sm.add_constant(x)\n",
        "model = sm.OLS(y, x).fit()\n",
        "print(model.summary())"
      ],
      "metadata": {
        "colab": {
          "base_uri": "https://localhost:8080/"
        },
        "id": "isrHeT4_jMth",
        "outputId": "3843e266-debf-417f-d53f-5c30527c8eb9"
      },
      "execution_count": null,
      "outputs": [
        {
          "output_type": "stream",
          "name": "stdout",
          "text": [
            "                            OLS Regression Results                            \n",
            "==============================================================================\n",
            "Dep. Variable:                 Volume   R-squared:                       0.435\n",
            "Model:                            OLS   Adj. R-squared:                  0.430\n",
            "Method:                 Least Squares   F-statistic:                     95.84\n",
            "Date:                Fri, 09 Dec 2022   Prob (F-statistic):           1.36e-31\n",
            "Time:                        11:02:21   Log-Likelihood:                -4370.7\n",
            "No. Observations:                 252   AIC:                             8747.\n",
            "Df Residuals:                     249   BIC:                             8758.\n",
            "Df Model:                           2                                         \n",
            "Covariance Type:            nonrobust                                         \n",
            "==============================================================================\n",
            "                 coef    std err          t      P>|t|      [0.025      0.975]\n",
            "------------------------------------------------------------------------------\n",
            "const       1.331e+07   4.87e+06      2.732      0.007    3.71e+06    2.29e+07\n",
            "High        2.352e+06    1.7e+05     13.820      0.000    2.02e+06    2.69e+06\n",
            "Low        -2.349e+06   1.72e+05    -13.665      0.000   -2.69e+06   -2.01e+06\n",
            "==============================================================================\n",
            "Omnibus:                      122.010   Durbin-Watson:                   1.104\n",
            "Prob(Omnibus):                  0.000   Jarque-Bera (JB):              714.808\n",
            "Skew:                           1.871   Prob(JB):                    6.04e-156\n",
            "Kurtosis:                      10.354   Cond. No.                     3.67e+03\n",
            "==============================================================================\n",
            "\n",
            "Notes:\n",
            "[1] Standard Errors assume that the covariance matrix of the errors is correctly specified.\n",
            "[2] The condition number is large, 3.67e+03. This might indicate that there are\n",
            "strong multicollinearity or other numerical problems.\n"
          ]
        },
        {
          "output_type": "stream",
          "name": "stderr",
          "text": [
            "/usr/local/lib/python3.8/dist-packages/statsmodels/tsa/tsatools.py:142: FutureWarning: In a future version of pandas all arguments of concat except for the argument 'objs' will be keyword-only\n",
            "  x = pd.concat(x[::order], 1)\n"
          ]
        }
      ]
    },
    {
      "cell_type": "code",
      "source": [],
      "metadata": {
        "id": "n4SnHOKAjOq_"
      },
      "execution_count": null,
      "outputs": []
    }
  ]
}